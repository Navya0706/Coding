{
 "cells": [
  {
   "cell_type": "code",
   "execution_count": 1,
   "id": "8d49abc6-def4-4499-93b8-bc088fca0c4e",
   "metadata": {},
   "outputs": [
    {
     "name": "stdin",
     "output_type": "stream",
     "text": [
      " 6\n",
      " 1 1 2 2 2 3 3\n"
     ]
    },
    {
     "name": "stdout",
     "output_type": "stream",
     "text": [
      "2\n"
     ]
    }
   ],
   "source": [
    "n=int(input())\n",
    "a=list(map(int,input().split()))\n",
    "maxcount=0\n",
    "maxele=0\n",
    "tie=False\n",
    "if n==1:\n",
    "    print(a[0])\n",
    "else:    \n",
    "    for i in range(0,n):\n",
    "        count=0\n",
    "        for j in range(0,n):\n",
    "            if a[i]==a[j]:\n",
    "                count+=1\n",
    "        if count>maxcount:\n",
    "            maxcount=count\n",
    "            maxele=a[i]\n",
    "            tie=False\n",
    "        elif count==maxcount and a[i]!=maxele:\n",
    "            tie=True\n",
    "    if tie:\n",
    "        print(-1)\n",
    "    else:\n",
    "        print(maxele)  "
   ]
  },
  {
   "cell_type": "code",
   "execution_count": 1,
   "id": "194ed970-3279-41b1-ae99-7073c7458809",
   "metadata": {},
   "outputs": [
    {
     "name": "stdin",
     "output_type": "stream",
     "text": [
      " helloworld\n"
     ]
    },
    {
     "name": "stdout",
     "output_type": "stream",
     "text": [
      "o\n"
     ]
    }
   ],
   "source": [
    "s=input()\n",
    "vowel={'a':0,'e':0,'i':0,'o':0,'u':0}\n",
    "max=0\n",
    "ele=0\n",
    "for i in s:\n",
    "    if i in vowel:\n",
    "        vowel[i]+=1\n",
    "for k,v in vowel.items():\n",
    "    if v>max:\n",
    "        max=v\n",
    "        ele=k\n",
    "print(ele)       "
   ]
  },
  {
   "cell_type": "code",
   "execution_count": 3,
   "id": "196b703b-ab08-4329-b4eb-e871bf696ab9",
   "metadata": {},
   "outputs": [
    {
     "name": "stdin",
     "output_type": "stream",
     "text": [
      " Hello World Hey\n"
     ]
    },
    {
     "name": "stdout",
     "output_type": "stream",
     "text": [
      "2\n"
     ]
    }
   ],
   "source": [
    "s=input()\n",
    "space=\" \"\n",
    "count=0\n",
    "for i in s:\n",
    "    if i==space:\n",
    "        count+=1\n",
    "print(count)    "
   ]
  },
  {
   "cell_type": "code",
   "execution_count": 11,
   "id": "dfd98dab-9493-4115-9f74-869847470714",
   "metadata": {},
   "outputs": [
    {
     "name": "stdin",
     "output_type": "stream",
     "text": [
      " 7\n",
      " 5 3 20 10 1 4 2\n",
      " 60\n"
     ]
    },
    {
     "name": "stdout",
     "output_type": "stream",
     "text": [
      "(5, 4, 3)\n",
      "(20, 3, 1)\n",
      "(10, 3, 2)\n"
     ]
    }
   ],
   "source": [
    "n=int(input())\n",
    "a=list(map(int,input().split()))\n",
    "num=int(input())\n",
    "for i in range(len(a)):\n",
    "    for j in range(i+1,len(a)):\n",
    "        for k in range(j+1,len(a)):\n",
    "           if a[i]*a[j]*a[k]==num:\n",
    "               triplet=sorted([a[i],a[j],a[k]],reverse=True)\n",
    "               print(tuple(triplet))\n",
    "               #print(f\"({a[i]},{a[j]},{a[k]})\")"
   ]
  },
  {
   "cell_type": "code",
   "execution_count": null,
   "id": "846e7743-d08d-46db-b7d5-91fa2e002a1f",
   "metadata": {},
   "outputs": [],
   "source": []
  }
 ],
 "metadata": {
  "kernelspec": {
   "display_name": "Python 3 (ipykernel)",
   "language": "python",
   "name": "python3"
  },
  "language_info": {
   "codemirror_mode": {
    "name": "ipython",
    "version": 3
   },
   "file_extension": ".py",
   "mimetype": "text/x-python",
   "name": "python",
   "nbconvert_exporter": "python",
   "pygments_lexer": "ipython3",
   "version": "3.11.7"
  }
 },
 "nbformat": 4,
 "nbformat_minor": 5
}
