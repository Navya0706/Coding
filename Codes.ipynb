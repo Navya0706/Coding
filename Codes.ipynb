{
 "cells": [
  {
   "cell_type": "code",
   "execution_count": 1,
   "id": "26cff6df-145e-4a96-bb8a-1d5b7da24018",
   "metadata": {},
   "outputs": [
    {
     "name": "stdin",
     "output_type": "stream",
     "text": [
      " 5\n",
      " 1 -1 1 -1 1\n"
     ]
    },
    {
     "name": "stdout",
     "output_type": "stream",
     "text": [
      "2\n"
     ]
    }
   ],
   "source": [
    "# Ant on Rail\n",
    "\n",
    "n=int(input())\n",
    "s=list(map(int,input().split()))\n",
    "p=0\n",
    "count=0\n",
    "for i in s:\n",
    "    p=p+i\n",
    "    if p==0:\n",
    "        count=count+1\n",
    "print(count)        \n",
    "    "
   ]
  },
  {
   "cell_type": "code",
   "execution_count": 7,
   "id": "03f8e534-150e-4936-9eca-5e039bc962f1",
   "metadata": {},
   "outputs": [
    {
     "name": "stdin",
     "output_type": "stream",
     "text": [
      " 3\n",
      " 10 20 30\n"
     ]
    },
    {
     "name": "stdout",
     "output_type": "stream",
     "text": [
      "21\n"
     ]
    }
   ],
   "source": [
    "#chocolate jar\n",
    "\n",
    "n=input()\n",
    "c=list(map(int,input().split()))\n",
    "a=0\n",
    "for i in c:\n",
    "    if i<=3:\n",
    "        a+=1\n",
    "    elif i%3==0:\n",
    "        a+=i//3\n",
    "    else:\n",
    "        a+=i//3+1\n",
    "print(a)        "
   ]
  },
  {
   "cell_type": "code",
   "execution_count": 5,
   "id": "3c528c6a-a4d5-47f9-82db-3f71dc569598",
   "metadata": {},
   "outputs": [
    {
     "name": "stdin",
     "output_type": "stream",
     "text": [
      " 5\n"
     ]
    },
    {
     "name": "stdout",
     "output_type": "stream",
     "text": [
      "35\n"
     ]
    }
   ],
   "source": [
    "#Dog age\n",
    "\n",
    "n=int(input())\n",
    "age=n*7\n",
    "print(age)"
   ]
  },
  {
   "cell_type": "code",
   "execution_count": 9,
   "id": "eb38b60f-4e14-4dc0-b27a-27345e400488",
   "metadata": {},
   "outputs": [
    {
     "name": "stdin",
     "output_type": "stream",
     "text": [
      "enter: 6\n",
      "time to reach venue: 180\n"
     ]
    },
    {
     "name": "stdout",
     "output_type": "stream",
     "text": [
      "4\n"
     ]
    }
   ],
   "source": [
    "#Diwali contest\n",
    "\n",
    "n=int(input(\"enter:\"))\n",
    "p=int(input(\"time to reach venue:\"))\n",
    "rem=240-p\n",
    "count=0\n",
    "for i in range(1,n+1):\n",
    "    if(rem>0 and rem>5*i):\n",
    "        rem=rem-5*i\n",
    "        count+=1\n",
    "print(count)        \n"
   ]
  },
  {
   "cell_type": "code",
   "execution_count": null,
   "id": "30f9df03-1c20-499a-a627-11b9a931e4ba",
   "metadata": {},
   "outputs": [],
   "source": [
    "#basket ball\n",
    "\n",
    "\n"
   ]
  },
  {
   "cell_type": "code",
   "execution_count": 21,
   "id": "7461c362-4003-4917-a4da-9e29b7f104d7",
   "metadata": {},
   "outputs": [
    {
     "name": "stdin",
     "output_type": "stream",
     "text": [
      " hey hello world\n"
     ]
    },
    {
     "name": "stdout",
     "output_type": "stream",
     "text": [
      "2\n"
     ]
    }
   ],
   "source": [
    "#space counter\n",
    "s=input()\n",
    "space=\" \"\n",
    "count=0\n",
    "for i in s:\n",
    "    if i==space:\n",
    "        count+=1\n",
    "print(count)        "
   ]
  },
  {
   "cell_type": "code",
   "execution_count": 9,
   "id": "ce42062c-0969-480d-a6a4-2da8d0cfaadd",
   "metadata": {},
   "outputs": [
    {
     "name": "stdout",
     "output_type": "stream",
     "text": [
      "13649 \n"
     ]
    }
   ],
   "source": [
    "#encode digit\n",
    "\n",
    "n=167\n",
    "temp=n\n",
    "result=\" \"\n",
    "while n!=0:\n",
    "    digit=n%10\n",
    "    s=digit*digit\n",
    "    #print(s)\n",
    "    result=str(s)+result\n",
    "    n=n//10\n",
    "print(result) "
   ]
  },
  {
   "cell_type": "code",
   "execution_count": 11,
   "id": "32e02396-0e5d-45ee-a9c2-6aa155ccd82f",
   "metadata": {},
   "outputs": [
    {
     "name": "stdin",
     "output_type": "stream",
     "text": [
      " 1 2 6 -5\n"
     ]
    },
    {
     "name": "stdout",
     "output_type": "stream",
     "text": [
      "4\n"
     ]
    }
   ],
   "source": [
    "a=list(map(int,input().split()))\n",
    "print(sum(a))"
   ]
  },
  {
   "cell_type": "code",
   "execution_count": 15,
   "id": "0c3f38d5-f4f2-4cf0-95dc-4968ce4435f2",
   "metadata": {},
   "outputs": [
    {
     "name": "stdin",
     "output_type": "stream",
     "text": [
      " 5\n",
      " 1 2 3 4 5\n"
     ]
    },
    {
     "name": "stdout",
     "output_type": "stream",
     "text": [
      "14\n"
     ]
    }
   ],
   "source": [
    "n=int(input())\n",
    "a=list(map(int,input().split()))\n",
    "a.sort()\n",
    "sum=0\n",
    "avg=(a[1]+a[2])//2\n",
    "for i in range(len(a)):\n",
    "    if a[i]>=avg:\n",
    "        sum+=a[i]\n",
    "print(sum)        "
   ]
  },
  {
   "cell_type": "code",
   "execution_count": 21,
   "id": "8872d023-568e-46db-900a-c2c142d9c78f",
   "metadata": {},
   "outputs": [
    {
     "name": "stdin",
     "output_type": "stream",
     "text": [
      " hhhtt\n"
     ]
    },
    {
     "name": "stdout",
     "output_type": "stream",
     "text": [
      "6\n"
     ]
    }
   ],
   "source": [
    "#toss\n",
    "\n",
    "toss=input()\n",
    "score=0\n",
    "for i in toss:\n",
    "    if i==\"h\":\n",
    "        score+=2\n",
    "    if i==\"t\":\n",
    "        score-=1\n",
    "    else:\n",
    "        if score==6:\n",
    "            break\n",
    "        else:\n",
    "            continue\n",
    "print(score)            \n",
    "\n",
    "        "
   ]
  },
  {
   "cell_type": "code",
   "execution_count": null,
   "id": "a470fc42-5f15-4389-8cb1-8b61a0a725c6",
   "metadata": {},
   "outputs": [],
   "source": [
    "#find mising and repeated value\n"
   ]
  },
  {
   "cell_type": "code",
   "execution_count": null,
   "id": "021b4ab6-5a0a-487d-8ea4-0a5d5b578be7",
   "metadata": {},
   "outputs": [],
   "source": [
    "# find sum of encrypted integers\n",
    "\n",
    "def encrypt(x):\n",
    "    \n",
    "    "
   ]
  },
  {
   "cell_type": "code",
   "execution_count": 61,
   "id": "7665f677-4f5b-490e-8e11-4462d40debd5",
   "metadata": {},
   "outputs": [
    {
     "name": "stdin",
     "output_type": "stream",
     "text": [
      " hi hello how are you\n"
     ]
    },
    {
     "name": "stdout",
     "output_type": "stream",
     "text": [
      "{'a': 1, 'e': 2, 'i': 1, 'o': 3, 'u': 1}\n",
      "o\n"
     ]
    }
   ],
   "source": [
    "#vowel occcurrance\n",
    "\n",
    "s=input()\n",
    "dic={'a':0,'e':0,'i':0,'o':0,'u':0}\n",
    "max=0\n",
    "key=0\n",
    "for i in s: \n",
    "    if i in dic:\n",
    "        dic[i]+=1\n",
    "print(dic)\n",
    "for i,j in dic.items():\n",
    "    if j>max:\n",
    "        max=j\n",
    "        key=i\n",
    "print(key)        "
   ]
  },
  {
   "cell_type": "code",
   "execution_count": 73,
   "id": "4fd8267b-bec5-4243-a2ed-53add2d45e73",
   "metadata": {},
   "outputs": [
    {
     "name": "stdin",
     "output_type": "stream",
     "text": [
      " 100\n",
      " 17\n"
     ]
    },
    {
     "name": "stdout",
     "output_type": "stream",
     "text": [
      "20\n",
      "2\n"
     ]
    }
   ],
   "source": [
    "#pizza party\n",
    "\n",
    "N=int(input())\n",
    "n=int(input())\n",
    "sum=0\n",
    "count=0\n",
    "for i in range(n,N+1):\n",
    "    if N%i==0:\n",
    "        sum=i\n",
    "        print(sum)\n",
    "        break\n",
    "for i in str(sum):\n",
    "    count+=int(i)\n",
    "print(count)"
   ]
  },
  {
   "cell_type": "code",
   "execution_count": 5,
   "id": "c20dc629-29fa-460a-b85e-125ec9e4a574",
   "metadata": {},
   "outputs": [
    {
     "name": "stdin",
     "output_type": "stream",
     "text": [
      " 6\n",
      " 1 2 1 3 2 2\n"
     ]
    },
    {
     "name": "stdout",
     "output_type": "stream",
     "text": [
      "11\n",
      "equlibirum 3 at index 3\n"
     ]
    }
   ],
   "source": [
    "#equilibirum\n",
    "n=int(input())\n",
    "a=list(map(int,input().split()))\n",
    "\n",
    "tsum=sum(a)\n",
    "print(tsum)\n",
    "lsum=0\n",
    "\n",
    "for i in range(len(a)):\n",
    "    tsum-=a[i]\n",
    "    if lsum==tsum:\n",
    "        print(f\"equlibirum {a[i]} at index {(i)}\")\n",
    "        break\n",
    "    lsum+=a[i]\n",
    "else:\n",
    "    print(\"not found\")"
   ]
  },
  {
   "cell_type": "code",
   "execution_count": 29,
   "id": "fa2077ac-9f93-4ea9-8283-10435e007a47",
   "metadata": {},
   "outputs": [
    {
     "name": "stdout",
     "output_type": "stream",
     "text": [
      "11\n",
      "22\n",
      "33\n",
      "sum :66\n"
     ]
    }
   ],
   "source": [
    "#encrypted integers\n",
    "a=[10,21,31]\n",
    "sum=0\n",
    "for i in a:\n",
    "    ldigit=max(str(i))\n",
    "    enum=int(ldigit*len(str(i)))\n",
    "    print(enum)\n",
    "    sum+=enum\n",
    "print(f\"sum :{sum}\")    "
   ]
  },
  {
   "cell_type": "code",
   "execution_count": 33,
   "id": "c6b3537d-be3c-4c0b-b7d3-2d2ec3d36507",
   "metadata": {},
   "outputs": [
    {
     "name": "stdin",
     "output_type": "stream",
     "text": [
      " abcd\n",
      " xyz\n"
     ]
    },
    {
     "name": "stdout",
     "output_type": "stream",
     "text": [
      "86\n"
     ]
    }
   ],
   "source": [
    "#special string\n",
    "\n",
    "a=input()\n",
    "s=input()\n",
    "total=0\n",
    "for i in a:\n",
    "    if i not in s:\n",
    "        temp=125\n",
    "        for j in s:\n",
    "            d=abs(ord(i)-ord(j))\n",
    "            if d<temp:\n",
    "                temp=d\n",
    "        total+=temp\n",
    "print(total)\n"
   ]
  },
  {
   "cell_type": "markdown",
   "id": "fd45a027-5dd3-477a-ba4b-e24628f3d0aa",
   "metadata": {},
   "source": [
    "#space separated\n",
    "\n",
    "n=int(input())\n",
    "a=list(map(int,input().split()))\n",
    "max=a[0]\n",
    "for i in range(len(a)):\n",
    "    if a[i]>max:\n",
    "        max=a[i]\n",
    "print(max)        "
   ]
  },
  {
   "cell_type": "code",
   "execution_count": 39,
   "id": "97a017d1-3f9f-4bc8-82ac-c73687e8b539",
   "metadata": {},
   "outputs": [
    {
     "name": "stdin",
     "output_type": "stream",
     "text": [
      " 3\n",
      " 50 66 23\n"
     ]
    },
    {
     "name": "stdout",
     "output_type": "stream",
     "text": [
      "23\n"
     ]
    }
   ],
   "source": [
    "#Smallest number\n",
    " \n",
    "n=int(input())\n",
    "a=list(map(int,input().split()))\n",
    "min=a[0]\n",
    "for i in range(len(a)):\n",
    "    if a[i]<min:\n",
    "        min=a[i]\n",
    "print(min)        "
   ]
  },
  {
   "cell_type": "code",
   "execution_count": 1,
   "id": "332d9231-2cbc-4aae-9236-1ab1db1c7d06",
   "metadata": {},
   "outputs": [
    {
     "name": "stdin",
     "output_type": "stream",
     "text": [
      "Enter the first number:  12\n",
      "Enter the second number:  24\n"
     ]
    },
    {
     "name": "stdout",
     "output_type": "stream",
     "text": [
      "GCD of 12 and 24 is 12\n",
      "LCM of 12 and 24 is 24\n"
     ]
    }
   ],
   "source": [
    "#GCD LCM\n",
    "\n",
    "def gcd(x, y):\n",
    "    while y:\n",
    "        x, y = y, x % y\n",
    "    return x\n",
    "\n",
    "def lcm(x, y):\n",
    "    return (x * y) // gcd(x, y)\n",
    "\n",
    "x = int(input(\"Enter the first number: \"))\n",
    "y = int(input(\"Enter the second number: \"))\n",
    "\n",
    "print(f\"GCD of {x} and {y} is {gcd(x, y)}\")\n",
    "print(f\"LCM of {x} and {y} is {lcm(x, y)}\")\n"
   ]
  },
  {
   "cell_type": "code",
   "execution_count": null,
   "id": "ca3ad2bd-db77-4132-958e-57ea46751f8c",
   "metadata": {},
   "outputs": [],
   "source": []
  },
  {
   "cell_type": "code",
   "execution_count": null,
   "id": "f1eefb1f-67c5-4bbb-9a0d-c65cadd268dc",
   "metadata": {},
   "outputs": [],
   "source": []
  },
  {
   "cell_type": "code",
   "execution_count": null,
   "id": "129e994f-d602-4164-a5ef-59f843761e5a",
   "metadata": {},
   "outputs": [],
   "source": []
  }
 ],
 "metadata": {
  "kernelspec": {
   "display_name": "Python 3 (ipykernel)",
   "language": "python",
   "name": "python3"
  },
  "language_info": {
   "codemirror_mode": {
    "name": "ipython",
    "version": 3
   },
   "file_extension": ".py",
   "mimetype": "text/x-python",
   "name": "python",
   "nbconvert_exporter": "python",
   "pygments_lexer": "ipython3",
   "version": "3.11.7"
  }
 },
 "nbformat": 4,
 "nbformat_minor": 5
}
