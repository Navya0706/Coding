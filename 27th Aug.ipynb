{
 "cells": [
  {
   "cell_type": "code",
   "execution_count": 33,
   "id": "f6532d6f-36f8-45bf-b235-397fa690e8c4",
   "metadata": {},
   "outputs": [
    {
     "name": "stdin",
     "output_type": "stream",
     "text": [
      " ballari\n"
     ] 
    },
    {
     "name": "stdout",
     "output_type": "stream",
     "text": [
      "{'b': 1, 'a': 2, 'l': 2, 'r': 1, 'i': 1}\n"
     ]
    }
   ],
   "source": [
    "#occurances of each character \n",
    "\n",
    "s=input()\n",
    "d={}\n",
    "for i in s:\n",
    "    if i not in d:\n",
    "        d[i]=1\n",
    "    else:\n",
    "        d[i]+=1     \n",
    "print(d)"
   ]
  },
  {
   "cell_type": "code",
   "execution_count": 57,
   "id": "2221fa25-8c42-4fba-a355-51ea86c76bf6",
   "metadata": {},
   "outputs": [
    {
     "name": "stdin",
     "output_type": "stream",
     "text": [
      " abcd\n"
     ]
    },
    {
     "name": "stdout",
     "output_type": "stream",
     "text": [
      "zyxw\n"
     ]
    }
   ],
   "source": [
    "#encrypt string such that a becomes z and z becomes a\n",
    "\n",
    "s=input().lower()\n",
    "res=[]\n",
    "for i in s:\n",
    "    x=ord(\"a\")+ord(\"z\")-ord(i)\n",
    "    res.append(chr(x))\n",
    "result=\"\".join(map(str,res) ) \n",
    "print(result)   "
   ]
  },
  {
   "cell_type": "code",
   "execution_count": 103,
   "id": "d3c008d5-2d39-44d0-9042-518737f6821d",
   "metadata": {},
   "outputs": [
    {
     "name": "stdin",
     "output_type": "stream",
     "text": [
      " man\n"
     ]
    },
    {
     "name": "stdout",
     "output_type": "stream",
     "text": [
      "28\n"
     ]
    }
   ],
   "source": [
    "s=input().lower()\n",
    "count=0\n",
    "for i in s:\n",
    "    res=ord(i)-96\n",
    "    count+=res\n",
    "print(count)    "
   ]
  },
  {
   "cell_type": "code",
   "execution_count": 25,
   "id": "30a779cb-570a-4652-b2f3-7ced5fe10884",
   "metadata": {},
   "outputs": [
    {
     "name": "stdin",
     "output_type": "stream",
     "text": [
      " 4ac52\n"
     ]
    },
    {
     "name": "stdout",
     "output_type": "stream",
     "text": [
      "40\n"
     ]
    }
   ],
   "source": [
    "s=input()\n",
    "res=1\n",
    "for i in s:\n",
    "    if i.isdigit():\n",
    "        res*=int(i)\n",
    "print(res)   "
   ]
  },
  {
   "cell_type": "code",
   "execution_count": 77,
   "id": "c4077853-1e76-42c3-a977-31977cb479f2",
   "metadata": {},
   "outputs": [
    {
     "name": "stdin",
     "output_type": "stream",
     "text": [
      " 12abc44\n"
     ]
    },
    {
     "name": "stdout",
     "output_type": "stream",
     "text": [
      "56\n"
     ]
    }
   ],
   "source": [
    "s=input()\n",
    "n=len(s)\n",
    "res=0\n",
    "for i in range(n-1):\n",
    "    if s[i].isdigit() and s[i+1].isdigit():\n",
    "        res+=int(s[i]+s[i+1])\n",
    "print(res)        "
   ]
  },
  {
   "cell_type": "code",
   "execution_count": null,
   "id": "add8788a-f0cd-483c-804f-da154c87d2c8",
   "metadata": {},
   "outputs": [],
   "source": []
  }
 ],
 "metadata": {
  "kernelspec": {
   "display_name": "Python 3 (ipykernel)",
   "language": "python",
   "name": "python3"
  },
  "language_info": {
   "codemirror_mode": {
    "name": "ipython",
    "version": 3
   },
   "file_extension": ".py",
   "mimetype": "text/x-python",
   "name": "python",
   "nbconvert_exporter": "python",
   "pygments_lexer": "ipython3",
   "version": "3.11.7"
  }
 },
 "nbformat": 4,
 "nbformat_minor": 5
}
