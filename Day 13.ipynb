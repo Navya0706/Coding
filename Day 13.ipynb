{
 "cells": [
  {
   "cell_type": "code",
   "execution_count": null,
   "id": "c9aa6110-9a37-4f5d-a05d-562fa16f71b3",
   "metadata": {},
   "outputs": [],
   "source": [
    "a=input()\n",
    "s=input()\n",
    "count=0\n",
    "for i in a:\n",
    "    if i not in s:\n",
    "        temp=125\n",
    "        for j in s:\n",
    "            d=abs(ord(i)-ord(j))\n",
    "            if d<temp:\n",
    "                temp=d\n",
    "        count+=temp\n",
    "print(count)            \n",
    "    "
   ]
  },
  {
   "cell_type": "code",
   "execution_count": null,
   "id": "d87df3c9-3fe4-4072-9fa2-fe7abb5307f0",
   "metadata": {},
   "outputs": [],
   "source": [
    "n=int(input())\n",
    "arr=list(map(int,input().split()))\n",
    "a=0\n",
    "b=0\n",
    "for i in set(arr):\n",
    "    if i%2==0:\n",
    "        if arr.count(i)%2==0:\n",
    "            a+=1\n",
    "        else:\n",
    "            b+=1\n",
    "    else:\n",
    "        if arr.count(i)%2==0:\n",
    "            b+=1\n",
    "        else:\n",
    "            a+=1\n",
    "if a>b:\n",
    "    print(\"A\",a-b)\n",
    "elif a==b:\n",
    "    print(\"T 0\")\n",
    "else:\n",
    "    print(\"B\",b-a)\n",
    "        "
   ]
  },
  {
   "cell_type": "code",
   "execution_count": null,
   "id": "4e598c79-cd31-448b-b470-3067e25e5189",
   "metadata": {},
   "outputs": [],
   "source": [
    "s=input()\n",
    "count=0\n",
    "n=len(s)\n",
    "for i in range(n):\n",
    "    if s[i]=='H':\n",
    "        count+=2\n",
    "        if i<=n-3 and s[i+1]=='H' and s[i+2]=='H':\n",
    "            count+=4\n",
    "            break\n",
    "    elif s[i]=='T':\n",
    "        count-=1\n",
    "print(count)    \n",
    "        "
   ]
  },
  {
   "cell_type": "code",
   "execution_count": null,
   "id": "d51390a0-3aa4-4952-aa3a-2f80a7960a6a",
   "metadata": {},
   "outputs": [],
   "source": [
    "x=int(input())\n",
    "y=int(input())\n",
    "while True:\n",
    "    if y==0:\n",
    "        break\n",
    "    elif x<=y:\n",
    "        t=x\n",
    "        x=y\n",
    "        y=t\n",
    "    t=x-y\n",
    "    x=y\n",
    "    y=t\n",
    "print(x)    "
   ]
  },
  {
   "cell_type": "code",
   "execution_count": null,
   "id": "643eef65-6c72-4b74-a343-04ad1464b1f3",
   "metadata": {},
   "outputs": [],
   "source": [
    "n=int(input())\n",
    "a=list(map(int,input().split()))\n",
    "d={}\n",
    "for i in a:\n",
    "    if i in d:\n",
    "        d[i]+=1\n",
    "    else:\n",
    "        d[i]=1\n",
    "res=[]        \n",
    "for key,value in d.items():\n",
    "    res.extend([value]*key)\n",
    "res.sort()\n",
    "print(res)\n",
    "    "
   ]
  },
  {
   "cell_type": "code",
   "execution_count": null,
   "id": "09d35be0-2696-48ef-b58e-52759828e172",
   "metadata": {},
   "outputs": [],
   "source": [
    "x,n,y,m=map(int,input().split())\n",
    "l=1\n",
    "while True:\n",
    "    k=(y+l*m-x)/n\n",
    "    if k-int(k)==0:\n",
    "        k=int(k)\n",
    "        break\n",
    "    l+=1\n",
    "print(x+k*n)    \n",
    "        "
   ]
  },
  {
   "cell_type": "code",
   "execution_count": null,
   "id": "9cb9b0aa-01c0-4988-9c9f-904f770d58e5",
   "metadata": {},
   "outputs": [],
   "source": [
    "N,n=map(int,input().split())\n",
    "sum=0\n",
    "count=0\n",
    "for i in range(n,N+1):\n",
    "    if N%i==0:\n",
    "        sum=i\n",
    "        break\n",
    "for i in str(sum):\n",
    "    count+=int(i)\n",
    "print(count)    "
   ]
  },
  {
   "cell_type": "code",
   "execution_count": null,
   "id": "9d1b718e-85d0-4f4d-bb61-b392ea8e37d0",
   "metadata": {},
   "outputs": [],
   "source": [
    "\"\"\"x,y,z=map(int,input().split())\n",
    "xy=x+y\n",
    "yz=y+z\n",
    "zx=z+x\n",
    "res=max(xy,yz,zx)\n",
    "print(res)\"\"\"\n",
    "\n",
    "l=list(map(int,input().split()))\n",
    "l.sort()\n",
    "print(l[-2]+l[-1])"
   ]
  },
  {
   "cell_type": "code",
   "execution_count": null,
   "id": "3b893e29-ed8f-47b7-a9c3-71fcfcf25776",
   "metadata": {},
   "outputs": [],
   "source": [
    "n=int(input())\n",
    "x=[1,1]\n",
    "for i in range(2,n+1):\n",
    "    res=(x[i-1]+7*x[i-2]+i//4)%(10**9+7)\n",
    "    x.append(res)\n",
    "print(x[n])    "
   ]
  },
  {
   "cell_type": "code",
   "execution_count": null,
   "id": "a499d163-db00-4baf-be95-f8a834ebf2f3",
   "metadata": {},
   "outputs": [],
   "source": [
    "n=int(input())\n",
    "sum=0\n",
    "for i in range(1,n+1):\n",
    "    for j in range(i,0,-1):\n",
    "        sum+=j\n",
    "    for j in range(2,i+1):\n",
    "        sum+=j\n",
    "print(sum)    "
   ]
  },
  {
   "cell_type": "code",
   "execution_count": null,
   "id": "ae54130a-e002-4af9-80b6-915ad78305f6",
   "metadata": {},
   "outputs": [],
   "source": []
  },
  {
   "cell_type": "code",
   "execution_count": null,
   "id": "3597ecee-a69c-4edf-a250-6309220d96ef",
   "metadata": {},
   "outputs": [],
   "source": []
  },
  {
   "cell_type": "code",
   "execution_count": null,
   "id": "dd23d7fb-e2d4-4850-adab-e2e52dffb26e",
   "metadata": {},
   "outputs": [],
   "source": []
  },
  {
   "cell_type": "code",
   "execution_count": null,
   "id": "e3a0e35c-87a8-4236-88ef-b9eb77d7dfcd",
   "metadata": {},
   "outputs": [],
   "source": []
  }
 ],
 "metadata": {
  "kernelspec": {
   "display_name": "Python 3 (ipykernel)",
   "language": "python",
   "name": "python3"
  },
  "language_info": {
   "codemirror_mode": {
    "name": "ipython",
    "version": 3
   },
   "file_extension": ".py",
   "mimetype": "text/x-python",
   "name": "python",
   "nbconvert_exporter": "python",
   "pygments_lexer": "ipython3",
   "version": "3.11.7"
  }
 },
 "nbformat": 4,
 "nbformat_minor": 5
}
