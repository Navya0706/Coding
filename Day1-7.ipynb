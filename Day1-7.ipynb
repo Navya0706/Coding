{
 "cells": [
  {
   "cell_type": "markdown",
   "id": "3c1b94b6-18c4-4f2f-a784-100464a5ffd6",
   "metadata": {},
   "source": [
    "Day 1 - 7 Concept- Basics,Arrays,Strings\n",
    "35 questions , 5days*2 = 10 questions , 2+3 mock questions\n",
    "total = 50\n",
    "pending - reinprep - election,primefactors"
   ]
  },
  {
   "cell_type": "markdown",
   "id": "857dbebd-b6d9-40dc-94b6-698dd88de948",
   "metadata": {},
   "source": [
    "codechef/hackerrank/leetcode/gfg/prepinsta"
   ]
  },
  {
   "cell_type": "code",
   "execution_count": null,
   "id": "67a25a88-efb1-4ad6-bfcd-c0818d964861",
   "metadata": {},
   "outputs": [],
   "source": [
    "# cook your dish here - 0-1000 arrays\n",
    "n=list(map(int,input().split()))\n",
    "count=0\n",
    "for i in n:\n",
    "    if i>=10:\n",
    "        count+=1\n",
    "print(count)        "
   ]
  },
  {
   "cell_type": "code",
   "execution_count": null,
   "id": "7044dd5c-1432-4568-8e5b-b88f8a59a0bc",
   "metadata": {},
   "outputs": [],
   "source": [
    "# cook your dish here 0-1000 arrays\n",
    "\n",
    "t=int(input())\n",
    "for j in range(t):\n",
    "    n=int(input())\n",
    "    d=list(map(int,input().split()))\n",
    "    count=0\n",
    "    for i in d:\n",
    "        if i >= 1000:\n",
    "            count+=1\n",
    "    print(count)     "
   ]
  },
  {
   "cell_type": "code",
   "execution_count": null,
   "id": "8b11b7c4-e33e-40c4-829b-24ceb8398a71",
   "metadata": {},
   "outputs": [],
   "source": [
    "# cook your dish here 0-1000 arrays\n",
    "t=int(input())\n",
    "for j in range(t):\n",
    "    n=int(input())\n",
    "    f = 1\n",
    "    for i in range(1,n+1):\n",
    "        f*= i\n",
    "    print(f)"
   ]
  },
  {
   "cell_type": "code",
   "execution_count": null,
   "id": "60be07e7-19e4-43a9-acc0-7c8c47d5595b",
   "metadata": {},
   "outputs": [],
   "source": [
    "# cook your dish here 0-1000 arrays\n",
    "t = int(input())\n",
    "for _ in range(t):\n",
    "    n = int(input())\n",
    "    p = input().split()\n",
    "    scount = 0\n",
    "    lcount = 0\n",
    "    for i in p:\n",
    "        if i == \"START38\":\n",
    "            scount += 1\n",
    "        elif i == \"LTIME108\":\n",
    "            lcount += 1\n",
    "    print(f\"{scount} {lcount}\")"
   ]
  },
  {
   "cell_type": "code",
   "execution_count": null,
   "id": "a2b2dcd1-7588-401c-91f2-f19fd0004849",
   "metadata": {},
   "outputs": [],
   "source": [
    "# cook your dish here 0-1000 arrays\n",
    "t=int(input())\n",
    "for j in range(t):\n",
    "    l,r=list(map(int,input().split()))\n",
    "    count=0\n",
    "    for i in range(l,r+1):\n",
    "        num=i%10\n",
    "        if num==2 or num==3 or num==9:\n",
    "            count+=1\n",
    "    print(count)        "
   ]
  },
  {
   "cell_type": "code",
   "execution_count": null,
   "id": "9d7c292b-6c73-4e87-aefe-58a4da34f65a",
   "metadata": {},
   "outputs": [],
   "source": [
    "# cook your dish here 0-1000 arrays\n",
    "t=int(input())\n",
    "for j in range(t):\n",
    "    n,k=list(map(int,input().split()))\n",
    "    arr=list(map(int,input().split()))\n",
    "    count=0\n",
    "    for i in arr:\n",
    "        if i>k:\n",
    "            count+=1\n",
    "    print(count)        "
   ]
  },
  {
   "cell_type": "code",
   "execution_count": null,
   "id": "83be79b1-d791-45ac-888b-b6092ee971d2",
   "metadata": {},
   "outputs": [],
   "source": [
    "# cook your dish here 0-1000 arrays\n",
    "N = int(input())\n",
    "player1= 0\n",
    "player2 = 0\n",
    "max_lead = 0\n",
    "winner = 0\n",
    "for _ in range(N):\n",
    "    S, T = map(int, input().split())\n",
    "    player1 += S\n",
    "    player2 += T\n",
    "    if player1> player2:\n",
    "        current_lead = player1 - player2\n",
    "        current_winner = 1\n",
    "    else:\n",
    "        current_lead = player2 - player1\n",
    "        current_winner = 2\n",
    "    if current_lead > max_lead:\n",
    "        max_lead = current_lead\n",
    "        winner = current_winner\n",
    "print(winner, max_lead)\n"
   ]
  },
  {
   "cell_type": "code",
   "execution_count": null,
   "id": "b15f4c52-342a-44c1-9dd8-bf046a48a5d7",
   "metadata": {},
   "outputs": [],
   "source": [
    "#cook your dish - 0-1000 arrays\n",
    "t = int(input())\n",
    "for _ in range(t):\n",
    "    n = int(input())\n",
    "    difficulties = list(map(int, input().split()))\n",
    "    is_non_decreasing = True\n",
    "    for i in range(1, n):\n",
    "        if difficulties[i] < difficulties[i - 1]:\n",
    "            is_non_decreasing = False\n",
    "            break\n",
    "    if is_non_decreasing:\n",
    "        print(\"Yes\")\n",
    "    else:\n",
    "        print(\"No\")"
   ]
  },
  {
   "cell_type": "code",
   "execution_count": null,
   "id": "ca377889-3d33-4c75-9c85-7b5b22d0113b",
   "metadata": {},
   "outputs": [],
   "source": [
    "# cook your dish here- 0-1000 arrays\n",
    "\n",
    "t=int(input())\n",
    "for _ in range(t):\n",
    "    n,l,r=list(map(int,input().split()))\n",
    "    arr=list(map(int,input().split()))\n",
    "    h=0\n",
    "    minh=0\n",
    "    maxh=0\n",
    "    for i in range(n):\n",
    "        if l <= arr[i] <= r:\n",
    "            h+=1 \n",
    "        else:\n",
    "            h-=1 \n",
    "        maxh = max(maxh,h)\n",
    "        minh= min(minh,h)    \n",
    "    print(f\"{maxh} {minh}\")\n"
   ]
  },
  {
   "cell_type": "code",
   "execution_count": 3,
   "id": "2f4b02d9-a065-4bb7-96c5-d6daf0ed1347",
   "metadata": {},
   "outputs": [
    {
     "name": "stdout",
     "output_type": "stream",
     "text": [
      "5\n",
      "1\n"
     ]
    }
   ],
   "source": [
    "#max min \n",
    "\n",
    "a=[1,2,3,4,5]\n",
    "min=a[0]\n",
    "max=a[0]\n",
    "for i in range(len(a)):\n",
    "    if a[i]>max:\n",
    "        max=a[i]\n",
    "    if a[i]<min:\n",
    "        min=a[i]\n",
    "print(max)\n",
    "print(min)"
   ]
  },
  {
   "cell_type": "code",
   "execution_count": 13,
   "id": "3290765f-8662-4187-a7d1-8b6899c3d583",
   "metadata": {},
   "outputs": [
    {
     "name": "stdout",
     "output_type": "stream",
     "text": [
      "[2, 3, 4, 4, 5, 6, 6, 8, 9]\n",
      "8\n",
      "3\n"
     ]
    }
   ],
   "source": [
    "# Second Smallest largest Element in an Array \n",
    "\n",
    "a=[9,5,4,3,6,6,8,2,4]\n",
    "a.sort()\n",
    "print(a)\n",
    "print(a[-2])\n",
    "print(a[1])"
   ]
  },
  {
   "cell_type": "code",
   "execution_count": 15,
   "id": "e53b80b5-6569-4309-9a01-f258c722dba6",
   "metadata": {},
   "outputs": [
    {
     "name": "stdout",
     "output_type": "stream",
     "text": [
      "15\n"
     ]
    }
   ],
   "source": [
    "#Calculate the sum of elements in an array\n",
    "\n",
    "a=[1,2,3,4,5]\n",
    "sum=0\n",
    "for i in a:\n",
    "    sum+=i\n",
    "print(sum)    \n",
    "\"\"\"a= [10, 20, 30, 40]\n",
    "print(sum(arr))\"\"\""
   ]
  },
  {
   "cell_type": "code",
   "execution_count": 21,
   "id": "ce120816-66b7-4d7d-9fc9-0e913c8df889",
   "metadata": {},
   "outputs": [
    {
     "name": "stdout",
     "output_type": "stream",
     "text": [
      "[5, 4, 3, 2, 1]\n"
     ]
    }
   ],
   "source": [
    "#Reverse an Array\n",
    "a=[1,2,3,4,5]\n",
    "a.reverse()\n",
    "print(a)"
   ]
  },
  {
   "cell_type": "code",
   "execution_count": 49,
   "id": "6861bf3c-02d9-44ee-b3f9-7af87dbe6f9c",
   "metadata": {},
   "outputs": [
    {
     "name": "stdout",
     "output_type": "stream",
     "text": [
      "found\n"
     ]
    }
   ],
   "source": [
    "#Linear Search\n",
    "a=[1,2,5,6,8,9]\n",
    "num=5\n",
    "count=0\n",
    "for i in a:\n",
    "    if i==num:\n",
    "        count+=1\n",
    "if count==1:\n",
    "    print(\"found\")\n",
    "else:\n",
    "    print(\"not\")\n",
    "        "
   ]
  },
  {
   "cell_type": "code",
   "execution_count": 1,
   "id": "e2560713-59b5-42c3-82b7-c601016f55e7",
   "metadata": {},
   "outputs": [],
   "source": [
    "#hackerrank\n",
    "\n",
    "lower=\"\"\n",
    "upper=\"\"\n",
    "odd=\"\"\n",
    "even=\"\"\n",
    "s=sorted(input())\n",
    "for i in s:\n",
    "    if i.islower():\n",
    "        lower+=i\n",
    "    elif i.isupper():\n",
    "        upper+=i\n",
    "    elif int(i)%2!=0:\n",
    "        odd+=i        \n",
    "    elif int(i)%2==0:\n",
    "        even+=i\n",
    "print(lower+upper+odd+even)"
   ]
  },
  {
   "cell_type": "code",
   "execution_count": null,
   "id": "ade4ad5d-d1f7-4049-bb28-ce6983783c2e",
   "metadata": {},
   "outputs": [],
   "source": [
    "#hackerrank\n",
    "\n",
    "from itertools import groupby\n",
    "s=input()\n",
    "for key,group in groupby(s):\n",
    "    s1=len(list(group)),int(key)\n",
    "    print(tuple(s1),end=\" \")"
   ]
  },
  {
   "cell_type": "code",
   "execution_count": null,
   "id": "9677c419-a6d8-4d3d-ba77-e278baa883d7",
   "metadata": {},
   "outputs": [],
   "source": [
    "#hackerrank\n",
    "\n",
    "\n",
    "def average(array):\n",
    "    # your code goes here\n",
    "    x=set(arr)\n",
    "    tsum=sum(x)\n",
    "    count=len(x)\n",
    "    average=(tsum/count)\n",
    "    return average\n",
    "if __name__ == '__main__':\n",
    "    n = int(input())\n",
    "    arr = list(map(int, input().split()))\n",
    "    result = average(arr)\n",
    "    print(result)"
   ]
  },
  {
   "cell_type": "code",
   "execution_count": null,
   "id": "a08f0f05-dc73-41a8-b277-0858178ba12d",
   "metadata": {},
   "outputs": [],
   "source": [
    "#hackerrank\n",
    "\n",
    "def swap_case(s):\n",
    "    result=s.swapcase()\n",
    "    return result\n",
    "\n",
    "if __name__ == '__main__':\n",
    "    s = input()\n",
    "    result = swap_case(s)\n",
    "    print(result)"
   ]
  },
  {
   "cell_type": "code",
   "execution_count": 3,
   "id": "3898f296-a6d0-45a8-b936-fcb3c96526e6",
   "metadata": {},
   "outputs": [],
   "source": [
    "#hackerrank\n",
    "\n",
    "def split_and_join(line):\n",
    "    line=line.split(\" \")\n",
    "    line=\"-\".join(line)\n",
    "    return line\n",
    "    \n",
    "    # write your code here\n",
    "\n",
    "if __name__ == '__main__':\n",
    "    line = input()\n",
    "    result = split_and_join(line)\n",
    "    print(result)"
   ]
  },
  {
   "cell_type": "code",
   "execution_count": 5,
   "id": "a1fc53fe-5093-422f-9758-9a2155454e6d",
   "metadata": {},
   "outputs": [],
   "source": [
    "#hacerrank\n",
    "\n",
    "# Enter your code here. Read input from S0TDIN. Print output to STDOUT\n",
    "input()\n",
    "happiness=0\n",
    "arr=list(map(int,input().split()))\n",
    "A=set(map(int,input().split()))\n",
    "B=set(map(int,input().split()))\n",
    "for i in arr:\n",
    "    if i in A:\n",
    "        happiness+=1\n",
    "    elif i in B:\n",
    "        happiness-=1\n",
    "print(happiness)            \n"
   ]
  },
  {
   "cell_type": "code",
   "execution_count": null,
   "id": "74294bd4-a11d-4f5f-8dd2-61626cb9ca57",
   "metadata": {},
   "outputs": [],
   "source": [
    "# cook your dish here -0-1000 strings\n",
    "T = int(input().strip())\n",
    "for _ in range(T):\n",
    "    S = input().strip()\n",
    "    T = input().strip()\n",
    "    M = \"\"\n",
    "    for s_char, t_char in zip(S, T):\n",
    "        if s_char == t_char:\n",
    "            M += \"G\"\n",
    "        else:\n",
    "            M += \"B\"\n",
    "    print(M)"
   ]
  },
  {
   "cell_type": "code",
   "execution_count": null,
   "id": "87ef8f18-a8ce-4dba-937b-d599060b5331",
   "metadata": {},
   "outputs": [],
   "source": [
    "# cook your dish here - 0-1000 strings\n",
    "T = int(input().strip())\n",
    "for _ in range(T):\n",
    "    s=input()\n",
    "    s1=s[::-1]\n",
    "    if s==s1:\n",
    "        print(\"wins\")\n",
    "    else:\n",
    "        print(\"loses\")"
   ]
  },
  {
   "cell_type": "code",
   "execution_count": null,
   "id": "2984139b-e4f7-44ec-89c3-a04bd4965726",
   "metadata": {},
   "outputs": [],
   "source": [
    "# cook your dish here  0-1000 strings\n",
    "t=int(input())\n",
    "for _ in range(t):\n",
    "    n=int(input())\n",
    "    arr=list(map(int,input().split()))\n",
    "    count=1\n",
    "    if n==1:\n",
    "        print(1)\n",
    "        continue\n",
    "    else:\n",
    "        for i in range(1,n):\n",
    "            if arr[i]!=arr[i-1]:\n",
    "                count+=1   \n",
    "    print(count)            "
   ]
  },
  {
   "cell_type": "code",
   "execution_count": null,
   "id": "cd1dfe92-27ee-4055-920d-ea21a8b0f7a4",
   "metadata": {},
   "outputs": [],
   "source": [
    "# cook your dish here 0-1000 strings\n",
    "t = int(input())  \n",
    "for _ in range(t):\n",
    "    d = int(input()) \n",
    "    n = input()      \n",
    "    if '0' in n or '5' in n:\n",
    "        print(\"Yes\")\n",
    "    else:\n",
    "        print(\"No\")\n"
   ]
  },
  {
   "cell_type": "code",
   "execution_count": null,
   "id": "2b0a7a2f-6f25-44ab-9cdd-7df53acbd643",
   "metadata": {},
   "outputs": [],
   "source": [
    "# cook your dish here 0-1000 strings\n",
    "t = int(input())\n",
    "while t > 0:\n",
    "    s = input()\n",
    "    vowels = set('aeiou')\n",
    "    count = 0\n",
    "    happy = False\n",
    "    \n",
    "    for char in s:\n",
    "        if char in vowels:\n",
    "            count += 1\n",
    "            if count > 2:\n",
    "                happy = True\n",
    "                break\n",
    "        else:\n",
    "            count = 0\n",
    "    \n",
    "    if happy:\n",
    "        print(\"HAPPY\")\n",
    "    else:\n",
    "        print(\"SAD\")\n",
    "    \n",
    "    t -= 1\n"
   ]
  },
  {
   "cell_type": "code",
   "execution_count": null,
   "id": "bab7c2c7-7ee3-429d-85cd-9eca3c9fabc2",
   "metadata": {},
   "outputs": [],
   "source": [
    "# prime number \n",
    "m=int(input(\"enter message:\"))\n",
    "flag=0\n",
    "if m<1:\n",
    "    flag=1\n",
    "elif m==1:\n",
    "    flag=0    \n",
    "else: \n",
    "    for i in range(2,int(m//2)):\n",
    "        if m%i==0:\n",
    "            flag=1\n",
    "            break\n",
    "if flag==0:    \n",
    "    print(\"vaild\") \n",
    "else:\n",
    "    print(\"invalid\")  "
   ]
  },
  {
   "cell_type": "code",
   "execution_count": 5,
   "id": "8a19a87c-f044-4d8a-9f7d-8aec56e29c1e",
   "metadata": {},
   "outputs": [
    {
     "name": "stdin",
     "output_type": "stream",
     "text": [
      " 123\n"
     ]
    },
    {
     "name": "stdout",
     "output_type": "stream",
     "text": [
      "6\n"
     ]
    }
   ],
   "source": [
    "#sum of digits of a num\n",
    "\n",
    "num=input()\n",
    "sum = 0\n",
    "for i in num:\n",
    "    sum = sum + int(i)\n",
    "print(sum)"
   ]
  },
  {
   "cell_type": "code",
   "execution_count": 3,
   "id": "14eeddab-e74e-4d54-ab39-0d590b7cfd4f",
   "metadata": {},
   "outputs": [
    {
     "name": "stdout",
     "output_type": "stream",
     "text": [
      "120\n"
     ]
    }
   ],
   "source": [
    "#Factorial\n",
    "n = 5\n",
    "factorial = 1\n",
    "\n",
    "for i in range(1, n + 1):\n",
    "    factorial *= i\n",
    "print(factorial)    "
   ]
  },
  {
   "cell_type": "code",
   "execution_count": 21,
   "id": "bfc39135-b1e7-40dd-93ee-8bbd7878548e",
   "metadata": {},
   "outputs": [
    {
     "name": "stdin",
     "output_type": "stream",
     "text": [
      " 121\n"
     ]
    },
    {
     "name": "stdout",
     "output_type": "stream",
     "text": [
      "Palindrome\n"
     ]
    }
   ],
   "source": [
    "#Palindrome\n",
    "\n",
    "n=input()\n",
    "n1=n[::-1]\n",
    "if n==n1:\n",
    "    print(\"Palindrome\")\n",
    "else:\n",
    "    print(\"not\")\n"
   ]
  },
  {
   "cell_type": "code",
   "execution_count": 25,
   "id": "b2c99709-a18b-43a3-bf23-2ed5cd768898",
   "metadata": {},
   "outputs": [
    {
     "name": "stdin",
     "output_type": "stream",
     "text": [
      " a\n"
     ]
    },
    {
     "name": "stdout",
     "output_type": "stream",
     "text": [
      "Vowel\n"
     ]
    }
   ],
   "source": [
    "#Check if vowel or consonent\n",
    "\n",
    "s=input()\n",
    "v=\"aeiou\"\n",
    "if s in v:\n",
    "    print(\"Vowel\")\n",
    "else:\n",
    "    print(\"Consonent\")"
   ]
  },
  {
   "cell_type": "code",
   "execution_count": 29,
   "id": "2c0afee0-d89a-456c-add1-38fbe04fe48b",
   "metadata": {},
   "outputs": [
    {
     "name": "stdin",
     "output_type": "stream",
     "text": [
      " aeiou\n"
     ]
    },
    {
     "name": "stdout",
     "output_type": "stream",
     "text": [
      "5\n"
     ]
    }
   ],
   "source": [
    "#length of string without len()\n",
    "s=input()\n",
    "count=0\n",
    "for i in s:\n",
    "    count+=1\n",
    "print(count)    "
   ]
  },
  {
   "cell_type": "code",
   "execution_count": 31,
   "id": "87d5f909-a327-47eb-bf54-753568bc238d",
   "metadata": {},
   "outputs": [
    {
     "name": "stdin",
     "output_type": "stream",
     "text": [
      " aeiou\n"
     ]
    },
    {
     "name": "stdout",
     "output_type": "stream",
     "text": [
      "uoiea\n"
     ]
    }
   ],
   "source": [
    "#Reverse a string\n",
    "\n",
    "s=input()\n",
    "s1=s[::-1]\n",
    "print(s1)"
   ]
  },
  {
   "cell_type": "code",
   "execution_count": 35,
   "id": "7ed98d86-f9fb-45b0-a8aa-a3d2bcc0392f",
   "metadata": {},
   "outputs": [
    {
     "name": "stdin",
     "output_type": "stream",
     "text": [
      " a1e2i3o4u5\n"
     ]
    },
    {
     "name": "stdout",
     "output_type": "stream",
     "text": [
      "5\n"
     ]
    }
   ],
   "source": [
    "#Count digits in string\n",
    "\n",
    "s=input()\n",
    "count=0\n",
    "for i in s:\n",
    "    if i.isdigit():\n",
    "        count+=1\n",
    "print(count)        "
   ]
  },
  {
   "cell_type": "code",
   "execution_count": 59,
   "id": "4aac4b20-b6d4-4638-983f-b939bc3b84fe",
   "metadata": {},
   "outputs": [
    {
     "name": "stdin",
     "output_type": "stream",
     "text": [
      " silent\n",
      " listen\n"
     ]
    },
    {
     "name": "stdout",
     "output_type": "stream",
     "text": [
      "anagram\n"
     ]
    }
   ],
   "source": [
    "#Anagram\n",
    "\n",
    "s=input()\n",
    "s1=input()\n",
    "s=sorted(s)\n",
    "s1=sorted(s1)\n",
    "if s==s1:\n",
    "    print(\"anagram\")\n",
    "else:\n",
    "    print(\"not\")"
   ]
  },
  {
   "cell_type": "code",
   "execution_count": 61,
   "id": "8f78d9f4-df33-4474-993c-f7d954dd94e3",
   "metadata": {},
   "outputs": [
    {
     "name": "stdout",
     "output_type": "stream",
     "text": [
      "21\n"
     ]
    }
   ],
   "source": [
    "#Sum of n natural numbers\n",
    "number = 6\n",
    "sum = int((number * (number + 1))/2)\n",
    "print(sum)"
   ]
  },
  {
   "cell_type": "markdown",
   "id": "a18559c0-69b8-40fc-9ca1-5c9b0c65a54a",
   "metadata": {},
   "source": [
    "Practice Questions - Reinprep"
   ]
  },
  {
   "cell_type": "code",
   "execution_count": 59,
   "id": "2f28ac0a-13bf-4ca1-b578-e3629fb80488",
   "metadata": {},
   "outputs": [
    {
     "name": "stdin",
     "output_type": "stream",
     "text": [
      " 5\n",
      " 1 -1 1 -1 1\n"
     ]
    },
    {
     "name": "stdout",
     "output_type": "stream",
     "text": [
      "2\n"
     ]
    }
   ],
   "source": [
    "#Ant on rail\n",
    "\n",
    "n=int(input())\n",
    "a=list(map(int,input().split())) \n",
    "p=0\n",
    "count=0\n",
    "for i in a:\n",
    "        p+=i\n",
    "        if p==0:\n",
    "            count+=1\n",
    "print(count)\n"
   ]
  },
  {
   "cell_type": "code",
   "execution_count": 7,
   "id": "43d8a17c-1fe8-4348-bf4c-b13f56e54bdf",
   "metadata": {},
   "outputs": [
    {
     "name": "stdin",
     "output_type": "stream",
     "text": [
      " 3\n",
      " 10 20 30\n"
     ]
    },
    {
     "name": "stdout",
     "output_type": "stream",
     "text": [
      "21\n"
     ]
    }
   ],
   "source": [
    "#Chocolate jar\n",
    "\n",
    "n=input()\n",
    "c=list(map(int,input().split()))\n",
    "a=0\n",
    "for i in c:\n",
    "    if i<=3:\n",
    "        a+=1\n",
    "    elif i%3==0:\n",
    "        a+=i//3\n",
    "    else:\n",
    "        a+=i//3+1\n",
    "print(a)        \n",
    "        "
   ]
  },
  {
   "cell_type": "code",
   "execution_count": null,
   "id": "fc99cb21-a298-494a-905d-3592150c1359",
   "metadata": {},
   "outputs": [],
   "source": [
    "#cars\n",
    "#easy"
   ]
  },
  {
   "cell_type": "code",
   "execution_count": null,
   "id": "9baf3a87-c1f8-4cb7-a49b-40b7eefc4e49",
   "metadata": {},
   "outputs": [],
   "source": [
    "#sub array\n",
    "\n",
    "arr = list(map(int, input().split()))\n",
    "max_current = arr[0]\n",
    "max_global = arr[0]\n",
    "\n",
    "# Iterate through the array starting from the second element\n",
    "for num in arr[1:]:\n",
    "    max_current = max(num, max_current + num)\n",
    "    if max_current > max_global:\n",
    "        max_global = max_current\n",
    "print(\"Maximum subarray sum is:\", max_global)"
   ]
  },
  {
   "cell_type": "code",
   "execution_count": null,
   "id": "85ba0cdb-2d1b-4a51-9679-02784a33cff7",
   "metadata": {},
   "outputs": [],
   "source": [
    "#badness\n",
    "\n",
    "s=list(input())\n",
    "for i in range(len(s)):\n",
    "    if s[i]==\"W\":\n",
    "        if i==0:\n",
    "            for j in range(1,len(s)):\n",
    "                if s[j]!=\"W\":\n",
    "                    s[i]=s[j]\n",
    "                    break\n",
    "        else:\n",
    "            s[i]=s[i-1]\n",
    "badness=0\n",
    "for i in range(1,len(s)):\n",
    "    if s[i]!=s[i-1]:\n",
    "        badness+=1\n",
    "print(badness)        "
   ]
  },
  {
   "cell_type": "code",
   "execution_count": null,
   "id": "0dde1ed6-de4c-4a32-a54a-e8f30c0c4ec1",
   "metadata": {},
   "outputs": [],
   "source": [
    "#sym_num\n",
    "\n",
    "n=int(input())\n",
    "sym_number=0\n",
    "pow=0\n",
    "temp=n\n",
    "while(temp>=0):\n",
    "    sym_number+=(2**pow)\n",
    "    temp=temp//2\n",
    "    pow+=1\n",
    "print(sym_number-n)    "
   ]
  },
  {
   "cell_type": "code",
   "execution_count": null,
   "id": "20d822c8-98cc-48d1-8f7a-85b329982ecb",
   "metadata": {},
   "outputs": [],
   "source": [
    "#BMI\n",
    "\n",
    "w=int(input()) \n",
    "h2=float(input())\n",
    "BMI=weight/(height*height)\n",
    "if BMI<18:\n",
    "    print(0)\n",
    "elif BMI>=18 and BMI<25:\n",
    "    print(1)\n",
    "elif BMI>=25 and BMI<30:\n",
    "    print(2)\n",
    "elif BMI>=30 and BMI<40:\n",
    "    print(3)\n",
    "elif BMI>=40:\n",
    "    print(4)"
   ]
  },
  {
   "cell_type": "code",
   "execution_count": null,
   "id": "50cdc5bc-15cb-48e4-b0de-23fa320331d5",
   "metadata": {},
   "outputs": [],
   "source": [
    "#product of array\n",
    "\n",
    "a=[1,2,3,6,5,4]\n",
    "p=1\n",
    "for i in a:\n",
    "    if i==0:\n",
    "        break\n",
    "    else:\n",
    "        p*=i\n",
    "print(p)        "
   ]
  },
  {
   "cell_type": "code",
   "execution_count": 63,
   "id": "8289adcf-6e09-4022-853a-ab987026c087",
   "metadata": {},
   "outputs": [
    {
     "name": "stdin",
     "output_type": "stream",
     "text": [
      " 5\n"
     ]
    },
    {
     "name": "stdout",
     "output_type": "stream",
     "text": [
      "1         \n",
      "2 3       \n",
      "4 5 6     \n",
      "7 8 9 10   \n",
      "11 12 13 14 15 \n"
     ]
    }
   ],
   "source": [
    "#patterns\n",
    "\n",
    "n=int(input())\n",
    "start=1\n",
    "for i in range(n):\n",
    "    for j in range(n):\n",
    "        if j<=i:\n",
    "            print(str(start),end=\" \")\n",
    "            start=start+1\n",
    "        else:\n",
    "            print(\" \",end=\" \")\n",
    "    print()"
   ]
  },
  {
   "cell_type": "code",
   "execution_count": null,
   "id": "bd47d55c-2bdb-4e3e-bad7-62d3b7a519a8",
   "metadata": {},
   "outputs": [],
   "source": [
    "#election\n",
    "\n",
    "\n"
   ]
  },
  {
   "cell_type": "code",
   "execution_count": null,
   "id": "929c7dfa-7d20-4907-9fe5-df946b0367b0",
   "metadata": {},
   "outputs": [],
   "source": [
    "#Diwali contest\n",
    "\n",
    "n=int(input(\"enter:\"))\n",
    "p=int(input(\"time to reach venue:\"))\n",
    "rem=240-p\n",
    "count=0\n",
    "for i in range(1,n+1):\n",
    "    if(rem>0 and rem>5*i):\n",
    "        rem=rem-5*i\n",
    "        count+=1\n",
    "print(count)      "
   ]
  },
  {
   "cell_type": "code",
   "execution_count": null,
   "id": "1175dea2-d275-4da6-8c58-17cae67aa131",
   "metadata": {},
   "outputs": [],
   "source": [
    "#Prime factors\n"
   ]
  },
  {
   "cell_type": "markdown",
   "id": "11e28ead-0bff-419d-904f-9884b43accfd",
   "metadata": {},
   "source": [
    "REINPREP MOCK"
   ]
  },
  {
   "cell_type": "code",
   "execution_count": null,
   "id": "60029cbb-7e23-4e5d-bebd-4e364cf1daf7",
   "metadata": {},
   "outputs": [],
   "source": [
    "#Ant on rail\n",
    "\n",
    "n=int(input())\n",
    "a=list(map(int,input().split())) \n",
    "p=0\n",
    "count=0\n",
    "for i in a:\n",
    "        p+=i\n",
    "        if p==0:\n",
    "            count+=1\n",
    "print(count)\n"
   ]
  },
  {
   "cell_type": "code",
   "execution_count": null,
   "id": "3bef2e65-b239-4240-8853-4cdedc3b13d8",
   "metadata": {},
   "outputs": [],
   "source": [
    "#Chocolate jar\n",
    "\n",
    "n=input()\n",
    "c=list(map(int,input().split()))\n",
    "a=0\n",
    "for i in c:\n",
    "    if i<=3:\n",
    "        a+=1\n",
    "    elif i%3==0:\n",
    "        a+=i//3\n",
    "\n",
    "    else:\n",
    "        a+=i//3+1"
   ]
  },
  {
   "cell_type": "code",
   "execution_count": null,
   "id": "26843fe8-9a29-4d40-8360-74f1b57b00c9",
   "metadata": {},
   "outputs": [],
   "source": [
    "#Basket ball\n",
    "\n",
    "i1=int(input())\n",
    "i2=int(input())\n",
    "arr=list(map(int,input().split()))\n",
    "mx=-1\n",
    "for i in range(0,len(arr)-i2):\n",
    "    temp=arr[i:i+i2]\n",
    "    k,s=1,0\n",
    "    for j in temp:\n",
    "        s+=(j*k)\n",
    "        k+=1\n",
    "    if s>mx:\n",
    "        mx=s\n",
    "print(mx)        \n"
   ]
  },
  {
   "cell_type": "code",
   "execution_count": 1,
   "id": "d6242beb-d34e-4725-b0a0-07089e493be9",
   "metadata": {},
   "outputs": [
    {
     "name": "stdin",
     "output_type": "stream",
     "text": [
      " 7\n"
     ]
    },
    {
     "name": "stdout",
     "output_type": "stream",
     "text": [
      "49\n"
     ]
    }
   ],
   "source": [
    "#Dog age\n",
    "\n",
    "n=int(input())\n",
    "age=n*7\n",
    "print(age)"
   ]
  },
  {
   "cell_type": "code",
   "execution_count": null,
   "id": "3ed504b7-2159-4c09-990e-209426eef2ef",
   "metadata": {},
   "outputs": [],
   "source": [
    "#Diwali contest\n",
    "\n",
    "n=int(input(\"enter:\"))\n",
    "p=int(input(\"time to reach venue:\"))\n",
    "rem=240-p\n",
    "count=0\n",
    "for i in range(1,n+1):\n",
    "    if(rem>0 and rem>5*i):\n",
    "        rem=rem-5*i\n",
    "        count+=1\n",
    "print(count)      "
   ]
  }
 ],
 "metadata": {
  "kernelspec": {
   "display_name": "Python 3 (ipykernel)",
   "language": "python",
   "name": "python3"
  },
  "language_info": {
   "codemirror_mode": {
    "name": "ipython",
    "version": 3
   },
   "file_extension": ".py",
   "mimetype": "text/x-python",
   "name": "python",
   "nbconvert_exporter": "python",
   "pygments_lexer": "ipython3",
   "version": "3.11.7"
  }
 },
 "nbformat": 4,
 "nbformat_minor": 5
}
