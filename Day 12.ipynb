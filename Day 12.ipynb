{
 "cells": [
  {
   "cell_type": "code",
   "execution_count": null,
   "id": "3a06b1da-26d3-42f5-b7d9-ad53eff9c235",
   "metadata": {},
   "outputs": [],
   "source": [
    "n=int(input())\n",
    "a=list(map(int,input().split()))\n",
    "a.sort()\n",
    "sum=0\n",
    "avg=(a[-2]+a[-1])/2.0\n",
    "for i in range(n):\n",
    "    if a[i]<avg:\n",
    "        a[i]==0\n",
    "    elif a[i]>=avg:\n",
    "        sum+=a[i]\n",
    "print(sum)        "
   ]
  },
  {
   "cell_type": "code",
   "execution_count": null,
   "id": "b19d6300-d9e2-4672-8798-6e984955c0ed",
   "metadata": {},
   "outputs": [],
   "source": [
    "n=int(input())\n",
    "while True:\n",
    "    is_prime=True\n",
    "    if n<1:\n",
    "        is_prime=False\n",
    "    elif n==1:\n",
    "        is_prime=True\n",
    "    else:    \n",
    "        for i in range(2,int(n//2)+1):\n",
    "            if n%i==0:\n",
    "                is_prime=False\n",
    "                break\n",
    "        \n",
    "    if is_prime:\n",
    "        print(n)\n",
    "        break\n",
    "    n+=1"
   ]
  },
  {
   "cell_type": "code",
   "execution_count": null,
   "id": "0daf8e57-b3d6-4ae7-b7d8-9ae76991ab4e",
   "metadata": {},
   "outputs": [],
   "source": [
    "s=input()\n",
    "steps=0\n",
    "freq=0\n",
    "ele=None\n",
    "for i in s:\n",
    "    cfreq=s.count(i)\n",
    "    if cfreq>freq:\n",
    "        freq=cfreq\n",
    "        ele=i\n",
    "for i in s:\n",
    "    if i!=ele:\n",
    "        steps+=1\n",
    "print(steps)        "
   ]
  },
  {
   "cell_type": "code",
   "execution_count": null,
   "id": "4fe3a84e-596d-42ae-8b54-7f4ee950e8ac",
   "metadata": {},
   "outputs": [],
   "source": [
    "n=int(input())\n",
    "l=[]\n",
    "encode=[]\n",
    "for i in str(n):\n",
    "    l.append(int(i))\n",
    "for j in l:\n",
    "    square=j**2\n",
    "    encode.append(square)\n",
    "res=''.join(map(str,encode))\n",
    "print(int(res))\n",
    "        "
   ]
  },
  {
   "cell_type": "code",
   "execution_count": null,
   "id": "52e855a6-ddbb-463e-8634-2dc105ebac50",
   "metadata": {},
   "outputs": [],
   "source": [
    "n=int(input())\n",
    "a=list(map(int,input().split()))\n",
    "count=0\n",
    "for i in a:\n",
    "    if sum(a[:i])==sum(a[i+1:]):\n",
    "        count=i+1\n",
    "        break\n",
    "if count==0:\n",
    "    print(\"NOT FOUND\")\n",
    "else:\n",
    "    print(count)\n",
    "        "
   ]
  },
  {
   "cell_type": "code",
   "execution_count": null,
   "id": "c74cc423-3fa8-4f16-8a41-a916db646f56",
   "metadata": {},
   "outputs": [],
   "source": [
    "a,b=map(int,input().split())\n",
    "x=a\n",
    "y=b\n",
    "while y!=0:\n",
    "    temp=x\n",
    "    x=y\n",
    "    y=temp%y\n",
    "gcd=x\n",
    "lcm=(a*b)//gcd\n",
    "print(gcd)\n",
    "print(lcm)"
   ]
  },
  {
   "cell_type": "code",
   "execution_count": null,
   "id": "3856f6e0-29b4-4765-961e-a8581d9bd9c2",
   "metadata": {},
   "outputs": [],
   "source": [
    "s=input()\n",
    "present=set(s.lower())\n",
    "missing=[]\n",
    "for i in range(ord('a'),ord('z')+1):\n",
    "    alphabet=chr(i)\n",
    "    if alphabet not in present:\n",
    "        missing.append(alphabet)\n",
    "res=''.join(missing)        \n",
    "print(res)        "
   ]
  },
  {
   "cell_type": "code",
   "execution_count": null,
   "id": "68904bd3-3039-4669-8be3-300e50ff982b",
   "metadata": {},
   "outputs": [],
   "source": [
    "a=list(map(int,input().split()))\n",
    "num=int(input())\n",
    "res=[]\n",
    "for i in range(0,len(a)):\n",
    "    for j in range(i+1,len(a)):\n",
    "        if a[i]+a[j]==num:\n",
    "            res.append(i)\n",
    "            res.append(j)\n",
    "print(res)           \n",
    "            "
   ]
  },
  {
   "cell_type": "code",
   "execution_count": null,
   "id": "ecca777d-368c-4264-b351-1878ad199945",
   "metadata": {},
   "outputs": [],
   "source": [
    "s=input().split()\n",
    "rev=s[::-1]\n",
    "res=' '.join(rev)\n",
    "print(res)"
   ]
  },
  {
   "cell_type": "code",
   "execution_count": null,
   "id": "a7203dfa-96c2-4ce3-abf3-03604dcd2313",
   "metadata": {},
   "outputs": [],
   "source": [
    "n=int(input())\n",
    "a=list(map(int,input().split()))\n",
    "for i in range(0,n):\n",
    "    if a[i]>=a[i-1] and a[i]>=a[i+1]:\n",
    "        print(i)\n",
    "        break\n",
    "        \n",
    "    "
   ]
  },
  {
   "cell_type": "code",
   "execution_count": null,
   "id": "00321a8d-ba4b-4cb1-9411-08a39ede97be",
   "metadata": {},
   "outputs": [],
   "source": [
    "n=int(input())\n",
    "a=list(map(int,input().split()))\n",
    "maxi=float('-inf')\n",
    "sum=0\n",
    "for i in range(n):\n",
    "    sum+=a[i]\n",
    "    if sum>maxi:\n",
    "        maxi=sum\n",
    "    if sum<0:\n",
    "        sum=0\n",
    "print(maxi)        "
   ]
  },
  {
   "cell_type": "code",
   "execution_count": null,
   "id": "42f33f38-2bc8-4b71-8d5d-736b84c5accb",
   "metadata": {},
   "outputs": [],
   "source": [
    "a=list(map(int,input().split()))\n",
    "c=-1\n",
    "sum=0\n",
    "for i in a:\n",
    "    sum+=i\n",
    "    if sum>c:\n",
    "        c=sum\n",
    "print(c)        "
   ]
  },
  {
   "cell_type": "code",
   "execution_count": null,
   "id": "dd944ee6-f1cb-41e3-8f44-982d66eb9d4e",
   "metadata": {},
   "outputs": [],
   "source": [
    "n,k,start=map(int,input().split())\n",
    "start-=1\n",
    "print((start+k-1)%n+1)"
   ]
  },
  {
   "cell_type": "code",
   "execution_count": null,
   "id": "d2b34546-6dd7-4a52-b2ed-3109e033fa88",
   "metadata": {},
   "outputs": [],
   "source": [
    "s=input()\n",
    "i=0\n",
    "c=0\n",
    "while i<len(s):\n",
    "    if s[i]=='0'and i+1<len(s) and s[i+1]=='0':\n",
    "        c+=1\n",
    "        i+=2\n",
    "    else:\n",
    "        c+=1\n",
    "        i+=1\n",
    "print(c)        "
   ]
  },
  {
   "cell_type": "code",
   "execution_count": null,
   "id": "9fe1df53-910f-4a85-ab11-94729800b06b",
   "metadata": {},
   "outputs": [],
   "source": []
  }
 ],
 "metadata": {
  "kernelspec": {
   "display_name": "Python 3 (ipykernel)",
   "language": "python",
   "name": "python3"
  },
  "language_info": {
   "codemirror_mode": {
    "name": "ipython",
    "version": 3
   },
   "file_extension": ".py",
   "mimetype": "text/x-python",
   "name": "python",
   "nbconvert_exporter": "python",
   "pygments_lexer": "ipython3",
   "version": "3.11.7"
  }
 },
 "nbformat": 4,
 "nbformat_minor": 5
}
