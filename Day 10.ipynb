{
 "cells": [
  {
   "cell_type": "code",
   "execution_count": 1,
   "id": "2eddf10f-d552-4802-a567-ffa4f85c3326",
   "metadata": {},
   "outputs": [
    {
     "name": "stdin",
     "output_type": "stream",
     "text": [
      " 5\n",
      " 2\n",
      " 1 2 3 4 5\n"
     ]
    },
    {
     "name": "stdout",
     "output_type": "stream",
     "text": [
      "14\n"
     ]
    }
   ],
   "source": [
    "n=int(input())\n",
    "k=int(input())\n",
    "arr=list(map(int,input().split()))\n",
    "mx=-1\n",
    "for i in range(0,n-k+1):\n",
    "    temp=arr[i:i+k]\n",
    "    a,m=1,0\n",
    "    for j in temp:\n",
    "        m+=j*a\n",
    "        a+=1\n",
    "    if m>mx:\n",
    "        mx=m\n",
    "print(mx)        \n",
    "    "
   ]
  },
  {
   "cell_type": "code",
   "execution_count": 3,
   "id": "f71ba760-3faf-4ca1-b834-772f8e9e0d27",
   "metadata": {},
   "outputs": [
    {
     "name": "stdin",
     "output_type": "stream",
     "text": [
      " 5\n",
      " 1 -1 1 -1 1\n"
     ]
    },
    {
     "name": "stdout",
     "output_type": "stream",
     "text": [
      "2\n"
     ]
    }
   ],
   "source": [
    "n=int(input())\n",
    "a=list(map(int,input().split())) \n",
    "p=0\n",
    "count=0\n",
    "for i in a:\n",
    "        p+=i\n",
    "        if p==0:\n",
    "            count+=1\n",
    "print(count)\n"
   ]
  },
  {
   "cell_type": "code",
   "execution_count": 7,
   "id": "de527a08-126f-44ba-a332-b2ea1ff1e767",
   "metadata": {},
   "outputs": [
    {
     "name": "stdin",
     "output_type": "stream",
     "text": [
      " 3\n",
      " 10 20 30\n"
     ]
    },
    {
     "name": "stdout",
     "output_type": "stream",
     "text": [
      "21\n"
     ]
    }
   ],
   "source": [
    "n=input()\n",
    "c=list(map(int,input().split()))\n",
    "a=0\n",
    "for i in c:\n",
    "    if i<=3:\n",
    "        a+=1\n",
    "    elif i%3==0:\n",
    "        a+=i//3\n",
    "\n",
    "    else:\n",
    "        a+=i//3+1\n",
    "print(a)        "
   ]
  },
  {
   "cell_type": "code",
   "execution_count": 9,
   "id": "1c83e16f-eac2-4ae0-a123-5ae157612fff",
   "metadata": {},
   "outputs": [
    {
     "name": "stdin",
     "output_type": "stream",
     "text": [
      "enter: 6\n",
      "time to reach venue: 180\n"
     ]
    },
    {
     "name": "stdout",
     "output_type": "stream",
     "text": [
      "4\n"
     ]
    }
   ],
   "source": [
    "n=int(input(\"enter:\"))\n",
    "p=int(input(\"time to reach venue:\"))\n",
    "rem=240-p\n",
    "count=0\n",
    "for i in range(1,n+1):\n",
    "    if(rem>0 and rem>5*i):\n",
    "        rem=rem-5*i\n",
    "        count+=1\n",
    "print(count)      "
   ]
  },
  {
   "cell_type": "code",
   "execution_count": 11,
   "id": "68ce3ea6-5354-444d-a9c7-648bf692fbfa",
   "metadata": {},
   "outputs": [
    {
     "name": "stdin",
     "output_type": "stream",
     "text": [
      " 4\n"
     ]
    },
    {
     "name": "stdout",
     "output_type": "stream",
     "text": [
      "28\n"
     ]
    }
   ],
   "source": [
    "n=int(input())\n",
    "age=n*7\n",
    "print(age)"
   ]
  },
  {
   "cell_type": "code",
   "execution_count": null,
   "id": "177c64dd-3a49-4a84-a2f9-ef66f3cffa4d",
   "metadata": {},
   "outputs": [],
   "source": []
  }
 ],
 "metadata": {
  "kernelspec": {
   "display_name": "Python 3 (ipykernel)",
   "language": "python",
   "name": "python3"
  },
  "language_info": {
   "codemirror_mode": {
    "name": "ipython",
    "version": 3
   },
   "file_extension": ".py",
   "mimetype": "text/x-python",
   "name": "python",
   "nbconvert_exporter": "python",
   "pygments_lexer": "ipython3",
   "version": "3.11.7"
  }
 },
 "nbformat": 4,
 "nbformat_minor": 5
}
