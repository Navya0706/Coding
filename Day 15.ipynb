{
 "cells": [
  {
   "cell_type": "code",
   "execution_count": null,
   "id": "499df7b7-1f77-4435-a0da-83eec25e05f2",
   "metadata": {},
   "outputs": [],
   "source": [
    "n=int(input())\n",
    "a=list(map(int,input().split()))\n",
    "k=list(map(int,input().split()))\n",
    "for i in range(n):\n",
    "    print(a[k[i]],end=\" \")"
   ]
  },
  {
   "cell_type": "code",
   "execution_count": null,
   "id": "574752bd-67a9-469c-bac5-73543e9dba59",
   "metadata": {},
   "outputs": [],
   "source": [
    "w=int(input())\n",
    "h=float(input())\n",
    "bmi=w/(h*h)\n",
    "if bmi<18:\n",
    "    print(0)\n",
    "elif bmi>=18 and bmi<25:\n",
    "    print(1)\n",
    "elif bmi>=25 and bmi<30:\n",
    "    print(2)\n",
    "elif bmi>=30 and bmi<40:\n",
    "    print(3)\n",
    "elif bmi>=40:\n",
    "    print(4)"
   ]
  },
  {
   "cell_type": "code",
   "execution_count": null,
   "id": "e02972ae-d6c1-45ae-a833-61e0c63b4400",
   "metadata": {},
   "outputs": [],
   "source": [
    "n=int(input())\n",
    "a=list(map(int,input().split()))\n",
    "b=list(map(int,input().split()))\n",
    "c=list(map(int,input().split()))\n",
    "x=None\n",
    "for i in a:\n",
    "    if i not in b:\n",
    "        x=i\n",
    "        break\n",
    "y=None\n",
    "for j in b:\n",
    "    if j not in c:\n",
    "        y=j\n",
    "        break\n",
    "print(x)\n",
    "print(y)"
   ]
  },
  {
   "cell_type": "code",
   "execution_count": null,
   "id": "a074c731-0da3-4cac-9aa5-5987bb6fea17",
   "metadata": {},
   "outputs": [],
   "source": [
    "a=list(map(int,input().split()))\n",
    "b=list(map(int,input().split()))\n",
    "union=[]\n",
    "inter=[]\n",
    "for k in a:\n",
    "    if k in b and k not in inter:\n",
    "        inter.append(k)\n",
    "for i in a:\n",
    "    if i not in union:\n",
    "        union.append(i)\n",
    "for j in b:\n",
    "    if j not in union:\n",
    "        union.append(j)\n",
    "print(inter)        \n",
    "print(union)        "
   ]
  },
  {
   "cell_type": "code",
   "execution_count": null,
   "id": "fa41b56b-3377-4a56-9a57-f4f813ddeb64",
   "metadata": {},
   "outputs": [],
   "source": [
    "n=int(input())\n",
    "arr=list(map(int,input().split()))\n",
    "positive=[]\n",
    "for i in range(len(arr)):\n",
    "    if i >= 0:\n",
    "        positive.append(i)\n",
    "mid_index=len(positive)//2\n",
    "print(arr[positive[mid_index]])\n"
   ]
  },
  {
   "cell_type": "code",
   "execution_count": null,
   "id": "fe767f12-aced-4c5d-9db4-5f1dd4ca44f0",
   "metadata": {},
   "outputs": [],
   "source": [
    "n=int(input())\n",
    "arr=list(map(int,input().split()))\n",
    "sum=0\n",
    "for i in arr:\n",
    "    time=(i*60)//10\n",
    "    sum+=time\n",
    "print(sum)    \n"
   ]
  },
  {
   "cell_type": "code",
   "execution_count": null,
   "id": "5f92b183-8b2d-45cb-90e3-a0062808d685",
   "metadata": {},
   "outputs": [],
   "source": [
    "n=int(input())\n",
    "a=list(map(int,input().split()))\n",
    "even=[]\n",
    "odd=[]\n",
    "for i in a:\n",
    "    if i%2==0:\n",
    "        even.append(i)\n",
    "    else:\n",
    "        odd.append(i)\n",
    "res=even+odd\n",
    "print(res)"
   ]
  },
  {
   "cell_type": "code",
   "execution_count": null,
   "id": "be151c10-2698-4ae5-a8bb-4b860bc2ff85",
   "metadata": {},
   "outputs": [],
   "source": [
    "n=int(input())\n",
    "arr=list(map(int,input().split()))\n",
    "n=len(arr)+1\n",
    "summ=(n*(n+1))//2\n",
    "asum=sum(arr)\n",
    "missing=summ-asum\n",
    "print(missing)"
   ]
  },
  {
   "cell_type": "code",
   "execution_count": null,
   "id": "72dbf8b0-07be-47e5-adcb-be3d9f96ed44",
   "metadata": {},
   "outputs": [],
   "source": [
    "n=int(input())\n",
    "if n%2==0:\n",
    "    print(\"YES\")\n",
    "else:\n",
    "    print(\"NO\")"
   ]
  },
  {
   "cell_type": "code",
   "execution_count": null,
   "id": "15bd8e77-ee78-409d-ac71-9d380e43ddfa",
   "metadata": {},
   "outputs": [],
   "source": [
    "n=int(input())\n",
    "s=bin(n)[2:]\n",
    "m=list(s)\n",
    "summ=0\n",
    "for i in m:\n",
    "    summ=summ+int(i)\n",
    "print(summ)    \n",
    "    "
   ]
  },
  {
   "cell_type": "code",
   "execution_count": null,
   "id": "90271963-2fae-4cf1-85c1-955c44acf667",
   "metadata": {},
   "outputs": [],
   "source": [
    "s=input()\n",
    "words=s.split()\n",
    "longest=\"\"\n",
    "for i in words:\n",
    "    if len(i) > len(longest):\n",
    "        longest=i\n",
    "print(longest)        "
   ]
  },
  {
   "cell_type": "code",
   "execution_count": null,
   "id": "be7280a8-5d05-43a9-90f4-21f324b70dbf",
   "metadata": {},
   "outputs": [],
   "source": [
    "n=int(input())\n",
    "num=1\n",
    "for i in range(1,n+1):\n",
    "    for j in range(1,i+1):\n",
    "        print(num,end=\" \")\n",
    "        num+=1\n",
    "    print()    \n",
    "    "
   ]
  },
  {
   "cell_type": "code",
   "execution_count": null,
   "id": "b024f240-f186-4f5c-8f9a-229d3c664100",
   "metadata": {},
   "outputs": [],
   "source": [
    "num=int(input())\n",
    "num+=1\n",
    "while True:\n",
    "    s=str(num)\n",
    "    if len(set(s))==len(s):\n",
    "        break\n",
    "    num+=1\n",
    "print(num)    "
   ]
  },
  {
   "cell_type": "code",
   "execution_count": null,
   "id": "d113e7c3-ee7e-4794-a171-a0da6116fa1a",
   "metadata": {},
   "outputs": [],
   "source": [
    "n=int(input())\n",
    "a=list(map(int,input().split()))\n",
    "summ=0\n",
    "maxi=float('-inf')\n",
    "for i in a:\n",
    "    summ+=i\n",
    "    if summ>maxi:\n",
    "        maxi=summ\n",
    "    if summ<0:\n",
    "        summ=0\n",
    "print(maxi)        "
   ]
  }
 ],
 "metadata": {
  "kernelspec": {
   "display_name": "Python 3 (ipykernel)",
   "language": "python",
   "name": "python3"
  },
  "language_info": {
   "codemirror_mode": {
    "name": "ipython",
    "version": 3
   },
   "file_extension": ".py",
   "mimetype": "text/x-python",
   "name": "python",
   "nbconvert_exporter": "python",
   "pygments_lexer": "ipython3",
   "version": "3.11.7"
  }
 },
 "nbformat": 4,
 "nbformat_minor": 5
}
