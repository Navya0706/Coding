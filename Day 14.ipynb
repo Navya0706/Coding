{
 "cells": [
  {
   "cell_type": "code",
   "execution_count": null,
   "id": "f6fac89f-2ef7-4222-b199-b757d438deff",
   "metadata": {},
   "outputs": [],
   "source": [
    "n=int(input())\n",
    "arr=list(map(int,input().split()))\n",
    "totsum=sum(arr)\n",
    "res=[]\n",
    "part1=0\n",
    "for i in range(n):\n",
    "    part1+=arr[i]\n",
    "    \n",
    "    part2=totsum-part1\n",
    "    diff=abs(part1-part2)\n",
    "    res.append(diff)\n",
    "print(res)    "
   ]
  },
  {
   "cell_type": "code",
   "execution_count": null,
   "id": "a0fa67c7-7cf5-4a61-9d89-92c02ecefabf",
   "metadata": {},
   "outputs": [],
   "source": [
    "a,b=map(int,input().split())\n",
    "c=abs(a-b)\n",
    "print(c)\n"
   ]
  },
  {
   "cell_type": "code",
   "execution_count": null,
   "id": "89e431cb-90fc-4c34-9e48-d5e1da447c62",
   "metadata": {},
   "outputs": [],
   "source": [
    "n=int(input())\n",
    "a=list(map(int,input().split()))\n",
    "b=list(map(int,input().split()))\n",
    "a.sort()\n",
    "b.sort()\n",
    "sum=0\n",
    "res=[]\n",
    "for i in range(0,n):\n",
    "    for j in range(n-1,-1,-1):\n",
    "        sum=a[i]+b[n-1-i]\n",
    "        res.append(sum)\n",
    "print(max(res))        "
   ]
  },
  {
   "cell_type": "code",
   "execution_count": null,
   "id": "f1c102ad-5e32-43bb-88ba-990346c6a655",
   "metadata": {},
   "outputs": [],
   "source": [
    "n=int(input())\n",
    "a=list(map(int,input().split()))\n",
    "a.sort()\n",
    "left=0\n",
    "right=n-1\n",
    "s=0\n",
    "while left<=right:\n",
    "    d=abs(a[right]-a[left])\n",
    "    s+=d\n",
    "    left+=1\n",
    "    right-=1\n",
    "print(s)    "
   ]
  },
  {
   "cell_type": "code",
   "execution_count": null,
   "id": "d330d31d-1d35-4934-8724-ffb03730091b",
   "metadata": {},
   "outputs": [],
   "source": [
    "s=input()\n",
    "while len(s)>0:\n",
    "    temp=s\n",
    "    for i in range(len(s)-1):\n",
    "        if s[i]==s[i+1]:\n",
    "            s=s[:i]+s[i+2:]\n",
    "            break\n",
    "    if temp==s:\n",
    "        print(s)\n",
    "        break\n",
    "if len(s)==0:\n",
    "    print(\"Empty String\")"
   ]
  },
  {
   "cell_type": "code",
   "execution_count": null,
   "id": "b476cb55-ba97-47bd-b420-92317ef46816",
   "metadata": {},
   "outputs": [],
   "source": [
    "a=list(map(int,input().split()))\n",
    "res=max(a)\n",
    "print(\"The largest number is:\",res)"
   ]
  },
  {
   "cell_type": "code",
   "execution_count": null,
   "id": "884e3611-bd3a-4467-ab4c-6f6ffcc60217",
   "metadata": {},
   "outputs": [],
   "source": [
    "n=int(input())\n",
    "s=input()\n",
    "k=int(input())\n",
    "k=k%n\n",
    "res=s[k:]+s[:k]\n",
    "print(res)"
   ]
  },
  {
   "cell_type": "code",
   "execution_count": null,
   "id": "998653d0-bdc6-4539-a4a1-75173e83e17e",
   "metadata": {},
   "outputs": [],
   "source": [
    "n=int(input())\n",
    "nstr=str(n)\n",
    "while True:\n",
    "    nstr_rev=nstr[::-1]\n",
    "    n_sum=int(nstr)+int(nstr_rev)\n",
    "    n_sum_str=str(n_sum)\n",
    "    if n_sum_str==n_sum_str[::-1]:\n",
    "        print(n_sum_str)\n",
    "        break\n",
    "    nstr=n_sum_str"
   ]
  },
  {
   "cell_type": "code",
   "execution_count": null,
   "id": "f01e8f31-5807-4e7e-8790-c281f3ed5c07",
   "metadata": {},
   "outputs": [],
   "source": [
    "m=int(input())\n",
    "n=int(input())\n",
    "list1=[]\n",
    "for _ in range(m):\n",
    "    row=list(map(int,input().split()))\n",
    "    list1.extend(row)\n",
    "list1.sort()\n",
    "for i in range(m):\n",
    "    print(\" \".join(map(str,list1[i*n:(i+1)*n])))"
   ]
  },
  {
   "cell_type": "code",
   "execution_count": null,
   "id": "b1fe5dd3-3f87-4fc4-96cd-706b27d73239",
   "metadata": {},
   "outputs": [],
   "source": [
    "n=int(input())\n",
    "l=[]\n",
    "summ=0\n",
    "for i in range(1,n):\n",
    "    if n%i==0:\n",
    "        summ+=i\n",
    "        l.append(i)\n",
    "if n==summ:\n",
    "    print(1)\n",
    "else:\n",
    "    print(sum(l))\n",
    "    "
   ]
  }
 ],
 "metadata": {
  "kernelspec": {
   "display_name": "Python 3 (ipykernel)",
   "language": "python",
   "name": "python3"
  },
  "language_info": {
   "codemirror_mode": {
    "name": "ipython",
    "version": 3
   },
   "file_extension": ".py",
   "mimetype": "text/x-python",
   "name": "python",
   "nbconvert_exporter": "python",
   "pygments_lexer": "ipython3",
   "version": "3.11.7"
  }
 },
 "nbformat": 4,
 "nbformat_minor": 5
}
