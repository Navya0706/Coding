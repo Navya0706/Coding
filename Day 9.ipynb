{
 "cells": [
  {
   "cell_type": "markdown",
   "id": "9afcafc4-46ad-400a-bb24-3c924a905279",
   "metadata": {},
   "source": [
    "PracticeSessionQ and mockQ of Week 1"
   ]
  },
  {
   "cell_type": "code",
   "execution_count": null,
   "id": "dd5fa757-8e94-4495-aa7a-1b1a33655991",
   "metadata": {},
   "outputs": [],
   "source": [
    "#Ant on rail\n",
    "\n",
    "n=int(input())\n",
    "a=list(map(int,input().split())) \n",
    "p=0\n",
    "count=0\n",
    "for i in a:\n",
    "        p+=i\n",
    "        if p==0:\n",
    "            count+=1\n",
    "print(count)\n"
   ]
  },
  {
   "cell_type": "code",
   "execution_count": null,
   "id": "461b5457-f2f2-4f02-bd49-a7c7b5db464b",
   "metadata": {},
   "outputs": [],
   "source": [
    "#Chocolate jar\n",
    "\n",
    "n=input()\n",
    "c=list(map(int,input().split()))\n",
    "a=0\n",
    "for i in c:\n",
    "    if i<=3:\n",
    "        a+=1\n",
    "    elif i%3==0:\n",
    "        a+=i//3\n",
    "    else:\n",
    "        a+=i//3+1\n",
    "print(a)        \n",
    "        "
   ]
  },
  {
   "cell_type": "code",
   "execution_count": null,
   "id": "a1ea3f15-d9d3-4d68-b8aa-0399b6cf9aec",
   "metadata": {},
   "outputs": [],
   "source": [
    "#cars\n",
    "#easy"
   ]
  },
  {
   "cell_type": "code",
   "execution_count": null,
   "id": "406591e6-a6ae-462c-80a8-97588b1c6aa5",
   "metadata": {},
   "outputs": [],
   "source": [
    "#sub array\n",
    "\n",
    "arr = list(map(int, input().split()))\n",
    "max_current = arr[0]\n",
    "max_global = arr[0]\n",
    "\n",
    "# Iterate through the array starting from the second element\n",
    "for num in arr[1:]:\n",
    "    max_current = max(num, max_current + num)\n",
    "    if max_current > max_global:\n",
    "        max_global = max_current\n",
    "print(\"Maximum subarray sum is:\", max_global)"
   ]
  },
  {
   "cell_type": "code",
   "execution_count": null,
   "id": "fdf05752-d3b3-453c-afa3-0b361ed71799",
   "metadata": {},
   "outputs": [],
   "source": [
    "#badness\n",
    "\n",
    "s=list(input())\n",
    "for i in range(len(s)):\n",
    "    if s[i]==\"W\":\n",
    "        if i==0:\n",
    "            for j in range(1,len(s)):\n",
    "                if s[j]!=\"W\":\n",
    "                    s[i]=s[j]\n",
    "                    break\n",
    "        else:\n",
    "            s[i]=s[i-1]\n",
    "badness=0\n",
    "for i in range(1,len(s)):\n",
    "    if s[i]!=s[i-1]:\n",
    "        badness+=1\n",
    "print(badness)        "
   ]
  },
  {
   "cell_type": "code",
   "execution_count": null,
   "id": "1b461e1c-b7a0-44cd-9e85-714d1ebec8bf",
   "metadata": {},
   "outputs": [],
   "source": [
    "#sym_num\n",
    "\n",
    "n=int(input())\n",
    "sym_number=0\n",
    "pow=0\n",
    "temp=n\n",
    "while(temp>=0):\n",
    "    sym_number+=(2**pow)\n",
    "    temp=temp//2\n",
    "    pow+=1\n",
    "print(sym_number-n)    "
   ]
  },
  {
   "cell_type": "code",
   "execution_count": null,
   "id": "78cf645f-65fd-495b-a3f1-9640d14c9105",
   "metadata": {},
   "outputs": [],
   "source": [
    "#BMI\n",
    "\n",
    "w=int(input()) \n",
    "h2=float(input())\n",
    "BMI=weight/(height*height)\n",
    "if BMI<18:\n",
    "    print(0)\n",
    "elif BMI>=18 and BMI<25:\n",
    "    print(1)\n",
    "elif BMI>=25 and BMI<30:\n",
    "    print(2)\n",
    "elif BMI>=30 and BMI<40:\n",
    "    print(3)\n",
    "elif BMI>=40:\n",
    "    print(4)"
   ]
  },
  {
   "cell_type": "code",
   "execution_count": null,
   "id": "38967ede-81cd-4fcb-a86e-c197b03763a0",
   "metadata": {},
   "outputs": [],
   "source": [
    "#product of array\n",
    "\n",
    "a=[1,2,3,6,5,4]\n",
    "p=1\n",
    "for i in a:\n",
    "    if i==0:\n",
    "        break\n",
    "    else:\n",
    "        p*=i\n",
    "print(p)        "
   ]
  },
  {
   "cell_type": "code",
   "execution_count": null,
   "id": "c268bd9b-8c7e-492b-81ac-9e40dbe804e3",
   "metadata": {},
   "outputs": [],
   "source": [
    "#patterns\n",
    "\n",
    "n=int(input())\n",
    "start=1\n",
    "for i in range(n):\n",
    "    for j in range(n):\n",
    "        if j<=i:\n",
    "            print(str(start),end=\" \")\n",
    "            start=start+1\n",
    "        else:\n",
    "            print(\" \",end=\" \")\n",
    "    print()"
   ]
  },
  {
   "cell_type": "code",
   "execution_count": null,
   "id": "cba357af-81c6-43e3-a391-93c86f69977b",
   "metadata": {},
   "outputs": [],
   "source": [
    "#Diwali contest\n",
    "\n",
    "n=int(input(\"enter:\"))\n",
    "p=int(input(\"time to reach venue:\"))\n",
    "rem=240-p\n",
    "count=0\n",
    "for i in range(1,n+1):\n",
    "    if(rem>0 and rem>5*i):\n",
    "        rem=rem-5*i\n",
    "        count+=1\n",
    "print(count)      "
   ]
  },
  {
   "cell_type": "code",
   "execution_count": null,
   "id": "ad290b1c-afad-43b5-87b1-6463b83a50aa",
   "metadata": {},
   "outputs": [],
   "source": [
    "#Ant on rail\n",
    "\n",
    "n=int(input())\n",
    "a=list(map(int,input().split())) \n",
    "p=0\n",
    "count=0\n",
    "for i in a:\n",
    "        p+=i\n",
    "        if p==0:\n",
    "            count+=1\n",
    "print(count)\n"
   ]
  },
  {
   "cell_type": "code",
   "execution_count": null,
   "id": "e860a5fe-6512-4f56-b07c-e8c90473a406",
   "metadata": {},
   "outputs": [],
   "source": [
    "#Chocolate jar\n",
    "\n",
    "n=input()\n",
    "c=list(map(int,input().split()))\n",
    "a=0\n",
    "for i in c:\n",
    "    if i<=3:\n",
    "        a+=1\n",
    "    elif i%3==0:\n",
    "        a+=i//3\n",
    "\n",
    "    else:\n",
    "        a+=i//3+1"
   ]
  },
  {
   "cell_type": "code",
   "execution_count": null,
   "id": "2d97162c-465c-4900-838c-2ebcd8565a96",
   "metadata": {},
   "outputs": [],
   "source": [
    "#Basket ball\n",
    "\n",
    "i1=int(input())\n",
    "i2=int(input())\n",
    "arr=list(map(int,input().split()))\n",
    "mx=-1\n",
    "for i in range(0,len(arr)-i2):\n",
    "    temp=arr[i:i+i2]\n",
    "    k,s=1,0\n",
    "    for j in temp:\n",
    "        s+=(j*k)\n",
    "        k+=1\n",
    "    if s>mx:\n",
    "        mx=s\n",
    "print(mx)        \n"
   ]
  },
  {
   "cell_type": "code",
   "execution_count": null,
   "id": "eaf4738b-d37f-4325-a71c-dbbab281263a",
   "metadata": {},
   "outputs": [],
   "source": [
    "#Dog age\n",
    "\n",
    "n=int(input())\n",
    "age=n*7\n",
    "print(age)"
   ]
  },
  {
   "cell_type": "code",
   "execution_count": null,
   "id": "a2ed1f69-6b53-465c-ae7b-14f77585a49f",
   "metadata": {},
   "outputs": [],
   "source": [
    "#Diwali contest\n",
    "\n",
    "n=int(input(\"enter:\"))\n",
    "p=int(input(\"time to reach venue:\"))\n",
    "rem=240-p\n",
    "count=0\n",
    "for i in range(1,n+1):\n",
    "    if(rem>0 and rem>5*i):\n",
    "        rem=rem-5*i\n",
    "        count+=1\n",
    "print(count)      "
   ]
  }
 ],
 "metadata": {
  "kernelspec": {
   "display_name": "Python 3 (ipykernel)",
   "language": "python",
   "name": "python3"
  },
  "language_info": {
   "codemirror_mode": {
    "name": "ipython",
    "version": 3
   },
   "file_extension": ".py",
   "mimetype": "text/x-python",
   "name": "python",
   "nbconvert_exporter": "python",
   "pygments_lexer": "ipython3",
   "version": "3.11.7"
  }
 },
 "nbformat": 4,
 "nbformat_minor": 5
}
