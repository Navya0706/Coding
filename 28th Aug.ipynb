{
 "cells": [
  {
   "cell_type": "code",
   "execution_count": 7,
   "id": "d0ea68c6-6c63-4653-9470-8269e18d9e6b",
   "metadata": {},
   "outputs": [
    {
     "name": "stdin",
     "output_type": "stream",
     "text": [
      " 21 24 67 13 24 27\n"
     ]
    },
    {
     "name": "stdout",
     "output_type": "stream",
     "text": [
      "64\n"
     ]
    }
   ],
   "source": [
    "a=list(map(int,input().split()))\n",
    "a.reverse()\n",
    "n=len(a)\n",
    "sum=0\n",
    "for i in range(0,n):\n",
    "    if i%2==0:\n",
    "        sum+=a[i]\n",
    "print(sum)        "
   ]
  },
  {
   "cell_type": "code",
   "execution_count": 15,
   "id": "855160a0-bd39-48f1-8a09-5d82e974d604",
   "metadata": {},
   "outputs": [
    {
     "name": "stdin",
     "output_type": "stream",
     "text": [
      " paper\n"
     ]
    },
    {
     "name": "stdout",
     "output_type": "stream",
     "text": [
      "scissor\n"
     ]
    }
   ],
   "source": [
    "s=input()\n",
    "if s==\"rock\":\n",
    "    print(\"paper\")\n",
    "elif s==\"paper\":\n",
    "    print(\"scissor\")\n",
    "elif s==\"scissor\":\n",
    "    print(\"rock\")\n",
    "else:\n",
    "    print(\"invalid\")\n",
    "    "
   ]
  },
  {
   "cell_type": "code",
   "execution_count": 23,
   "id": "b3c4d73c-da1b-489e-8cc7-94bfc83aa1f8",
   "metadata": {},
   "outputs": [
    {
     "name": "stdin",
     "output_type": "stream",
     "text": [
      " apple\n",
      " a\n",
      " p\n"
     ]
    },
    {
     "name": "stdout",
     "output_type": "stream",
     "text": [
      "paale\n"
     ]
    }
   ],
   "source": [
    "strr=input()\n",
    "ch1=input()\n",
    "ch2=input()\n",
    "strr=list(strr)\n",
    "for i in range(len(strr)):\n",
    "    if strr[i]==ch1:\n",
    "        strr[i]=ch2\n",
    "    elif strr[i]==ch2:\n",
    "        strr[i]=ch1\n",
    "print(\"\".join(strr))\n"
   ]
  },
  {
   "cell_type": "code",
   "execution_count": 25,
   "id": "1f1d9875-82c2-4a81-a8f2-3b68b97fb35a",
   "metadata": {},
   "outputs": [
    {
     "name": "stdin",
     "output_type": "stream",
     "text": [
      " 3\n",
      " abc\n"
     ]
    },
    {
     "name": "stdout",
     "output_type": "stream",
     "text": [
      "abcabcabc\n"
     ]
    }
   ],
   "source": [
    "n=int(input())\n",
    "s=input()\n",
    "print(s*n)"
   ]
  },
  {
   "cell_type": "code",
   "execution_count": null,
   "id": "7d5c11c6-8d1f-4529-b747-dd811f0fc4da",
   "metadata": {},
   "outputs": [],
   "source": []
  }
 ],
 "metadata": {
  "kernelspec": {
   "display_name": "Python 3 (ipykernel)",
   "language": "python",
   "name": "python3"
  },
  "language_info": {
   "codemirror_mode": {
    "name": "ipython",
    "version": 3
   },
   "file_extension": ".py",
   "mimetype": "text/x-python",
   "name": "python",
   "nbconvert_exporter": "python",
   "pygments_lexer": "ipython3",
   "version": "3.11.7"
  }
 },
 "nbformat": 4,
 "nbformat_minor": 5
}
